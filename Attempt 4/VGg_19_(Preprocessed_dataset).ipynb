{
  "nbformat": 4,
  "nbformat_minor": 0,
  "metadata": {
    "colab": {
      "provenance": [],
      "include_colab_link": true
    },
    "kernelspec": {
      "name": "python3",
      "display_name": "Python 3"
    },
    "language_info": {
      "name": "python"
    }
  },
  "cells": [
    {
      "cell_type": "markdown",
      "metadata": {
        "id": "view-in-github",
        "colab_type": "text"
      },
      "source": [
        "<a href=\"https://colab.research.google.com/github/Khadeeja-Moin/Colab---VGG19/blob/main/Attempt%204/VGg_19_(Preprocessed_dataset).ipynb\" target=\"_parent\"><img src=\"https://colab.research.google.com/assets/colab-badge.svg\" alt=\"Open In Colab\"/></a>"
      ]
    },
    {
      "cell_type": "code",
      "execution_count": 1,
      "metadata": {
        "id": "WLeW8_RR0tH2"
      },
      "outputs": [],
      "source": [
        "import keras\n",
        "from tensorflow.keras.layers import Input, Lambda, Dense, Flatten,Conv2D\n",
        "from tensorflow.keras.models import Model\n",
        "from tensorflow.keras.applications.vgg19 import VGG19\n",
        "from tensorflow.keras.applications.resnet50 import preprocess_input\n",
        "from tensorflow.keras.preprocessing import image\n",
        "from tensorflow.keras.preprocessing.image import ImageDataGenerator,load_img\n",
        "from tensorflow.keras.models import Sequential\n",
        "import numpy as np\n",
        "from glob import glob\n",
        "import matplotlib.pyplot as plt"
      ]
    },
    {
      "cell_type": "code",
      "source": [
        "from tensorflow.keras.layers import MaxPooling2D"
      ],
      "metadata": {
        "id": "pISmZNUy1sls"
      },
      "execution_count": 2,
      "outputs": []
    },
    {
      "cell_type": "code",
      "source": [
        "import tensorflow as tf"
      ],
      "metadata": {
        "id": "ZRMGGT-muPT-"
      },
      "execution_count": 19,
      "outputs": []
    },
    {
      "cell_type": "code",
      "source": [
        "from google.colab import drive\n",
        "drive.mount('/content/drive')"
      ],
      "metadata": {
        "colab": {
          "base_uri": "https://localhost:8080/"
        },
        "id": "YM-O9rEn1CwU",
        "outputId": "ba1b491d-ee75-43c4-b927-b7ae0f0101d6"
      },
      "execution_count": 3,
      "outputs": [
        {
          "output_type": "stream",
          "name": "stdout",
          "text": [
            "Mounted at /content/drive\n"
          ]
        }
      ]
    },
    {
      "cell_type": "code",
      "source": [
        "train_path = '/content/drive/MyDrive/Colab Notebooks/brain_mri_dataset/Training3'\n",
        "test_path = '/content/drive/MyDrive/Colab Notebooks/brain_mri_dataset/Testing3'"
      ],
      "metadata": {
        "id": "u9E7comB081G"
      },
      "execution_count": 4,
      "outputs": []
    },
    {
      "cell_type": "code",
      "source": [
        "# re-size all the images to this because images in dataset are f varying sizes\n",
        "IMAGE_SIZE = [224, 224]"
      ],
      "metadata": {
        "id": "RxMCbOZ41RxM"
      },
      "execution_count": 5,
      "outputs": []
    },
    {
      "cell_type": "code",
      "source": [
        "# Import the Vgg 19 library as shown below and add preprocessing layer to the front of VGG\n",
        "# Here we will be using imagenet weights\n",
        "# Images in our dataset are gray-scale\n",
        "\n",
        "mobilnet = VGG19(input_shape=IMAGE_SIZE + [3], weights='imagenet', include_top=False)\n",
        "\n",
        "# include_top = False actually drops first and last layer of model\n",
        "# My first layer should be 224 * 224 (Image dimension)\n",
        "# My last year will have 4 classes according to dataset"
      ],
      "metadata": {
        "colab": {
          "base_uri": "https://localhost:8080/"
        },
        "id": "QQ0xfQzj1Vaz",
        "outputId": "dc1cef3f-8d9f-4d14-d3b5-9675b381b891"
      },
      "execution_count": 6,
      "outputs": [
        {
          "output_type": "stream",
          "name": "stdout",
          "text": [
            "Downloading data from https://storage.googleapis.com/tensorflow/keras-applications/vgg19/vgg19_weights_tf_dim_ordering_tf_kernels_notop.h5\n",
            "80134624/80134624 [==============================] - 0s 0us/step\n"
          ]
        }
      ]
    },
    {
      "cell_type": "code",
      "source": [
        "# don't train existing weights\n",
        "for layer in mobilnet.layers:\n",
        "    layer.trainable = False"
      ],
      "metadata": {
        "id": "tx1F848v1YUA"
      },
      "execution_count": 7,
      "outputs": []
    },
    {
      "cell_type": "code",
      "source": [
        "# our layers - you can add more if you want\n",
        "x = Flatten()(mobilnet.output)\n",
        "prediction = Dense(4, activation='softmax')(x)\n",
        "\n",
        "# create a model object\n",
        "model = Model(inputs=mobilnet.input, outputs=prediction)"
      ],
      "metadata": {
        "id": "T9QeRFBn1cnx"
      },
      "execution_count": 8,
      "outputs": []
    },
    {
      "cell_type": "code",
      "source": [
        "# view the structure of the model\n",
        "model.summary()"
      ],
      "metadata": {
        "colab": {
          "base_uri": "https://localhost:8080/"
        },
        "id": "W925aysz1kK9",
        "outputId": "ea7e2e29-6c34-4ce7-df64-8a6b75db7a4e"
      },
      "execution_count": null,
      "outputs": [
        {
          "output_type": "stream",
          "name": "stdout",
          "text": [
            "Model: \"model\"\n",
            "_________________________________________________________________\n",
            " Layer (type)                Output Shape              Param #   \n",
            "=================================================================\n",
            " input_1 (InputLayer)        [(None, 224, 224, 3)]     0         \n",
            "                                                                 \n",
            " block1_conv1 (Conv2D)       (None, 224, 224, 64)      1792      \n",
            "                                                                 \n",
            " block1_conv2 (Conv2D)       (None, 224, 224, 64)      36928     \n",
            "                                                                 \n",
            " block1_pool (MaxPooling2D)  (None, 112, 112, 64)      0         \n",
            "                                                                 \n",
            " block2_conv1 (Conv2D)       (None, 112, 112, 128)     73856     \n",
            "                                                                 \n",
            " block2_conv2 (Conv2D)       (None, 112, 112, 128)     147584    \n",
            "                                                                 \n",
            " block2_pool (MaxPooling2D)  (None, 56, 56, 128)       0         \n",
            "                                                                 \n",
            " block3_conv1 (Conv2D)       (None, 56, 56, 256)       295168    \n",
            "                                                                 \n",
            " block3_conv2 (Conv2D)       (None, 56, 56, 256)       590080    \n",
            "                                                                 \n",
            " block3_conv3 (Conv2D)       (None, 56, 56, 256)       590080    \n",
            "                                                                 \n",
            " block3_conv4 (Conv2D)       (None, 56, 56, 256)       590080    \n",
            "                                                                 \n",
            " block3_pool (MaxPooling2D)  (None, 28, 28, 256)       0         \n",
            "                                                                 \n",
            " block4_conv1 (Conv2D)       (None, 28, 28, 512)       1180160   \n",
            "                                                                 \n",
            " block4_conv2 (Conv2D)       (None, 28, 28, 512)       2359808   \n",
            "                                                                 \n",
            " block4_conv3 (Conv2D)       (None, 28, 28, 512)       2359808   \n",
            "                                                                 \n",
            " block4_conv4 (Conv2D)       (None, 28, 28, 512)       2359808   \n",
            "                                                                 \n",
            " block4_pool (MaxPooling2D)  (None, 14, 14, 512)       0         \n",
            "                                                                 \n",
            " block5_conv1 (Conv2D)       (None, 14, 14, 512)       2359808   \n",
            "                                                                 \n",
            " block5_conv2 (Conv2D)       (None, 14, 14, 512)       2359808   \n",
            "                                                                 \n",
            " block5_conv3 (Conv2D)       (None, 14, 14, 512)       2359808   \n",
            "                                                                 \n",
            " block5_conv4 (Conv2D)       (None, 14, 14, 512)       2359808   \n",
            "                                                                 \n",
            " block5_pool (MaxPooling2D)  (None, 7, 7, 512)         0         \n",
            "                                                                 \n",
            " flatten (Flatten)           (None, 25088)             0         \n",
            "                                                                 \n",
            " dense (Dense)               (None, 4)                 100356    \n",
            "                                                                 \n",
            "=================================================================\n",
            "Total params: 20124740 (76.77 MB)\n",
            "Trainable params: 100356 (392.02 KB)\n",
            "Non-trainable params: 20024384 (76.39 MB)\n",
            "_________________________________________________________________\n"
          ]
        }
      ]
    },
    {
      "cell_type": "code",
      "source": [
        "### Create Model from scratch using CNN\n",
        "model=Sequential()\n",
        "model.add(Conv2D(filters=16,kernel_size=2,padding=\"same\",activation=\"relu\",input_shape=(224,224,3)))\n",
        "model.add(MaxPooling2D(pool_size=2))\n",
        "model.add(Conv2D(filters=32,kernel_size=2,padding=\"same\",activation =\"relu\"))\n",
        "model.add(MaxPooling2D(pool_size=2))\n",
        "model.add(Conv2D(filters=64,kernel_size=2,padding=\"same\",activation=\"relu\"))\n",
        "model.add(MaxPooling2D(pool_size=2))\n",
        "model.add(Flatten())\n",
        "model.add(Dense(500,activation=\"relu\"))\n",
        "model.add(Dense(4,activation=\"softmax\"))  # 4 Neurons in the Output Layer\n",
        "model.summary()"
      ],
      "metadata": {
        "colab": {
          "base_uri": "https://localhost:8080/"
        },
        "id": "xG-t-cNc1w-Q",
        "outputId": "25e2d771-a257-4754-bce9-7dbbb470ae1f"
      },
      "execution_count": 9,
      "outputs": [
        {
          "output_type": "stream",
          "name": "stdout",
          "text": [
            "Model: \"sequential\"\n",
            "_________________________________________________________________\n",
            " Layer (type)                Output Shape              Param #   \n",
            "=================================================================\n",
            " conv2d (Conv2D)             (None, 224, 224, 16)      208       \n",
            "                                                                 \n",
            " max_pooling2d (MaxPooling2  (None, 112, 112, 16)      0         \n",
            " D)                                                              \n",
            "                                                                 \n",
            " conv2d_1 (Conv2D)           (None, 112, 112, 32)      2080      \n",
            "                                                                 \n",
            " max_pooling2d_1 (MaxPoolin  (None, 56, 56, 32)        0         \n",
            " g2D)                                                            \n",
            "                                                                 \n",
            " conv2d_2 (Conv2D)           (None, 56, 56, 64)        8256      \n",
            "                                                                 \n",
            " max_pooling2d_2 (MaxPoolin  (None, 28, 28, 64)        0         \n",
            " g2D)                                                            \n",
            "                                                                 \n",
            " flatten_1 (Flatten)         (None, 50176)             0         \n",
            "                                                                 \n",
            " dense_1 (Dense)             (None, 500)               25088500  \n",
            "                                                                 \n",
            " dense_2 (Dense)             (None, 4)                 2004      \n",
            "                                                                 \n",
            "=================================================================\n",
            "Total params: 25101048 (95.75 MB)\n",
            "Trainable params: 25101048 (95.75 MB)\n",
            "Non-trainable params: 0 (0.00 Byte)\n",
            "_________________________________________________________________\n"
          ]
        }
      ]
    },
    {
      "cell_type": "code",
      "source": [
        "# tell the model what cost and optimization method to use\n",
        "model.compile(\n",
        "  loss='categorical_crossentropy',\n",
        "  optimizer='adam',\n",
        "  metrics=['accuracy']\n",
        ")"
      ],
      "metadata": {
        "id": "sJsAWVTx110_"
      },
      "execution_count": 10,
      "outputs": []
    },
    {
      "cell_type": "code",
      "source": [
        "# Use the Image Data Generator to import the images from the dataset\n",
        "from tensorflow.keras.preprocessing.image import ImageDataGenerator\n",
        "\n",
        "train_datagen = ImageDataGenerator(rescale = 1./255,\n",
        "                                   shear_range = 0.2,\n",
        "                                   zoom_range = 0.2,\n",
        "                                   validation_split = 0.2,\n",
        "                                   horizontal_flip = True)\n",
        "\n",
        "test_datagen = ImageDataGenerator(rescale = 1./255)"
      ],
      "metadata": {
        "id": "kYCAoArN15oY"
      },
      "execution_count": 15,
      "outputs": []
    },
    {
      "cell_type": "code",
      "source": [
        "# Make sure you provide the same target size as initialied for the image size\n",
        "training_set = train_datagen.flow_from_directory('/content/drive/MyDrive/Colab Notebooks/brain_mri_dataset/Training3',\n",
        "                                                 target_size = (224, 224),\n",
        "                                                 batch_size = 32,\n",
        "                                                 class_mode = 'categorical',\n",
        "                                                 subset = 'training')\n"
      ],
      "metadata": {
        "colab": {
          "base_uri": "https://localhost:8080/"
        },
        "id": "JNo1amF7182k",
        "outputId": "c437b97b-ec20-4fda-d478-d7eb4d94b351"
      },
      "execution_count": 21,
      "outputs": [
        {
          "output_type": "stream",
          "name": "stdout",
          "text": [
            "Found 4571 images belonging to 4 classes.\n"
          ]
        }
      ]
    },
    {
      "cell_type": "code",
      "source": [
        "validation_set = train_datagen.flow_from_directory('/content/drive/MyDrive/Colab Notebooks/brain_mri_dataset/Training3',\n",
        "                                                 target_size = (224, 224),\n",
        "                                                 batch_size = 32,\n",
        "                                                 class_mode = 'categorical',\n",
        "                                                 subset = 'validation')"
      ],
      "metadata": {
        "colab": {
          "base_uri": "https://localhost:8080/"
        },
        "id": "XKNdzYySyY8C",
        "outputId": "47b226f2-4ab6-4bff-8dd9-facfa108ab5e"
      },
      "execution_count": 24,
      "outputs": [
        {
          "output_type": "stream",
          "name": "stdout",
          "text": [
            "Found 1141 images belonging to 4 classes.\n"
          ]
        }
      ]
    },
    {
      "cell_type": "code",
      "source": [
        "test_set = test_datagen.flow_from_directory('/content/drive/MyDrive/Colab Notebooks/brain_mri_dataset/Testing3',\n",
        "                                            target_size = (224, 224),\n",
        "                                            batch_size = 32,\n",
        "                                            class_mode = 'categorical')"
      ],
      "metadata": {
        "colab": {
          "base_uri": "https://localhost:8080/"
        },
        "id": "qZ3F5zbS2B98",
        "outputId": "ec68be21-5613-4628-cd5e-77b1b2f281e5"
      },
      "execution_count": 25,
      "outputs": [
        {
          "output_type": "stream",
          "name": "stdout",
          "text": [
            "Found 1311 images belonging to 4 classes.\n"
          ]
        }
      ]
    },
    {
      "cell_type": "code",
      "source": [
        "# fit the model\n",
        "# Run the cell. It will take some time to execute\n",
        "\n",
        "tf.keras.backend.clear_session()\n",
        "checkpoint = tf.keras.callbacks.ModelCheckpoint('/content/drive/MyDrive/Colab Notebooks/Models/vgg19_3channel_5k.keras',\n",
        "                                                monitor='accuracy', verbose=1,\n",
        "                                                mode='max',save_best_only=True)\n",
        "early = tf.keras.callbacks.EarlyStopping(monitor=\"accuracy\", mode=\"max\", restore_best_weights=True, patience=7)\n",
        "callbacks_list = [checkpoint,early]\n",
        "\n",
        "history = model.fit(training_set, epochs=20, callbacks=callbacks_list, validation_data = validation_set)"
      ],
      "metadata": {
        "colab": {
          "base_uri": "https://localhost:8080/"
        },
        "id": "2dkgonSy2GSi",
        "outputId": "79825a06-51ee-4c1e-94ad-3c1390f3f3d0"
      },
      "execution_count": 26,
      "outputs": [
        {
          "output_type": "stream",
          "name": "stdout",
          "text": [
            "Epoch 1/20\n",
            "143/143 [==============================] - ETA: 0s - loss: 0.3564 - accuracy: 0.8617\n",
            "Epoch 1: accuracy improved from -inf to 0.86174, saving model to /content/drive/MyDrive/Colab Notebooks/Models/vgg19_3channel_5k.keras\n",
            "143/143 [==============================] - 332s 2s/step - loss: 0.3564 - accuracy: 0.8617 - val_loss: 0.5893 - val_accuracy: 0.7914\n",
            "Epoch 2/20\n",
            "143/143 [==============================] - ETA: 0s - loss: 0.3133 - accuracy: 0.8801\n",
            "Epoch 2: accuracy improved from 0.86174 to 0.88011, saving model to /content/drive/MyDrive/Colab Notebooks/Models/vgg19_3channel_5k.keras\n",
            "143/143 [==============================] - 316s 2s/step - loss: 0.3133 - accuracy: 0.8801 - val_loss: 0.4930 - val_accuracy: 0.8116\n",
            "Epoch 3/20\n",
            "143/143 [==============================] - ETA: 0s - loss: 0.3006 - accuracy: 0.8906\n",
            "Epoch 3: accuracy improved from 0.88011 to 0.89061, saving model to /content/drive/MyDrive/Colab Notebooks/Models/vgg19_3channel_5k.keras\n",
            "143/143 [==============================] - 321s 2s/step - loss: 0.3006 - accuracy: 0.8906 - val_loss: 0.5708 - val_accuracy: 0.7888\n",
            "Epoch 4/20\n",
            "143/143 [==============================] - ETA: 0s - loss: 0.2444 - accuracy: 0.9057\n",
            "Epoch 4: accuracy improved from 0.89061 to 0.90571, saving model to /content/drive/MyDrive/Colab Notebooks/Models/vgg19_3channel_5k.keras\n",
            "143/143 [==============================] - 317s 2s/step - loss: 0.2444 - accuracy: 0.9057 - val_loss: 0.4577 - val_accuracy: 0.8457\n",
            "Epoch 5/20\n",
            "143/143 [==============================] - ETA: 0s - loss: 0.2322 - accuracy: 0.9123\n",
            "Epoch 5: accuracy improved from 0.90571 to 0.91227, saving model to /content/drive/MyDrive/Colab Notebooks/Models/vgg19_3channel_5k.keras\n",
            "143/143 [==============================] - 321s 2s/step - loss: 0.2322 - accuracy: 0.9123 - val_loss: 0.5306 - val_accuracy: 0.8273\n",
            "Epoch 6/20\n",
            "143/143 [==============================] - ETA: 0s - loss: 0.2087 - accuracy: 0.9228\n",
            "Epoch 6: accuracy improved from 0.91227 to 0.92277, saving model to /content/drive/MyDrive/Colab Notebooks/Models/vgg19_3channel_5k.keras\n",
            "143/143 [==============================] - 319s 2s/step - loss: 0.2087 - accuracy: 0.9228 - val_loss: 0.5602 - val_accuracy: 0.8247\n",
            "Epoch 7/20\n",
            "143/143 [==============================] - ETA: 0s - loss: 0.1874 - accuracy: 0.9320\n",
            "Epoch 7: accuracy improved from 0.92277 to 0.93196, saving model to /content/drive/MyDrive/Colab Notebooks/Models/vgg19_3channel_5k.keras\n",
            "143/143 [==============================] - 320s 2s/step - loss: 0.1874 - accuracy: 0.9320 - val_loss: 0.5124 - val_accuracy: 0.8484\n",
            "Epoch 8/20\n",
            "143/143 [==============================] - ETA: 0s - loss: 0.1782 - accuracy: 0.9317\n",
            "Epoch 8: accuracy did not improve from 0.93196\n",
            "143/143 [==============================] - 316s 2s/step - loss: 0.1782 - accuracy: 0.9317 - val_loss: 0.5679 - val_accuracy: 0.8282\n",
            "Epoch 9/20\n",
            "143/143 [==============================] - ETA: 0s - loss: 0.1615 - accuracy: 0.9414\n",
            "Epoch 9: accuracy improved from 0.93196 to 0.94137, saving model to /content/drive/MyDrive/Colab Notebooks/Models/vgg19_3channel_5k.keras\n",
            "143/143 [==============================] - 309s 2s/step - loss: 0.1615 - accuracy: 0.9414 - val_loss: 0.5002 - val_accuracy: 0.8501\n",
            "Epoch 10/20\n",
            "143/143 [==============================] - ETA: 0s - loss: 0.1407 - accuracy: 0.9464\n",
            "Epoch 10: accuracy improved from 0.94137 to 0.94640, saving model to /content/drive/MyDrive/Colab Notebooks/Models/vgg19_3channel_5k.keras\n",
            "143/143 [==============================] - 334s 2s/step - loss: 0.1407 - accuracy: 0.9464 - val_loss: 0.5540 - val_accuracy: 0.8387\n",
            "Epoch 11/20\n",
            "143/143 [==============================] - ETA: 0s - loss: 0.1521 - accuracy: 0.9447\n",
            "Epoch 11: accuracy did not improve from 0.94640\n",
            "143/143 [==============================] - 306s 2s/step - loss: 0.1521 - accuracy: 0.9447 - val_loss: 0.5051 - val_accuracy: 0.8422\n",
            "Epoch 12/20\n",
            "143/143 [==============================] - ETA: 0s - loss: 0.1307 - accuracy: 0.9510\n",
            "Epoch 12: accuracy improved from 0.94640 to 0.95100, saving model to /content/drive/MyDrive/Colab Notebooks/Models/vgg19_3channel_5k.keras\n",
            "143/143 [==============================] - 324s 2s/step - loss: 0.1307 - accuracy: 0.9510 - val_loss: 0.4739 - val_accuracy: 0.8440\n",
            "Epoch 13/20\n",
            "143/143 [==============================] - ETA: 0s - loss: 0.1224 - accuracy: 0.9552\n",
            "Epoch 13: accuracy improved from 0.95100 to 0.95515, saving model to /content/drive/MyDrive/Colab Notebooks/Models/vgg19_3channel_5k.keras\n",
            "143/143 [==============================] - 329s 2s/step - loss: 0.1224 - accuracy: 0.9552 - val_loss: 0.5109 - val_accuracy: 0.8580\n",
            "Epoch 14/20\n",
            "143/143 [==============================] - ETA: 0s - loss: 0.1026 - accuracy: 0.9643\n",
            "Epoch 14: accuracy improved from 0.95515 to 0.96434, saving model to /content/drive/MyDrive/Colab Notebooks/Models/vgg19_3channel_5k.keras\n",
            "143/143 [==============================] - 316s 2s/step - loss: 0.1026 - accuracy: 0.9643 - val_loss: 0.5465 - val_accuracy: 0.8396\n",
            "Epoch 15/20\n",
            "143/143 [==============================] - ETA: 0s - loss: 0.1078 - accuracy: 0.9622\n",
            "Epoch 15: accuracy did not improve from 0.96434\n",
            "143/143 [==============================] - 316s 2s/step - loss: 0.1078 - accuracy: 0.9622 - val_loss: 0.5393 - val_accuracy: 0.8598\n",
            "Epoch 16/20\n",
            "143/143 [==============================] - ETA: 0s - loss: 0.0991 - accuracy: 0.9646\n",
            "Epoch 16: accuracy improved from 0.96434 to 0.96456, saving model to /content/drive/MyDrive/Colab Notebooks/Models/vgg19_3channel_5k.keras\n",
            "143/143 [==============================] - 325s 2s/step - loss: 0.0991 - accuracy: 0.9646 - val_loss: 0.5361 - val_accuracy: 0.8589\n",
            "Epoch 17/20\n",
            "143/143 [==============================] - ETA: 0s - loss: 0.1040 - accuracy: 0.9654\n",
            "Epoch 17: accuracy improved from 0.96456 to 0.96543, saving model to /content/drive/MyDrive/Colab Notebooks/Models/vgg19_3channel_5k.keras\n",
            "143/143 [==============================] - 328s 2s/step - loss: 0.1040 - accuracy: 0.9654 - val_loss: 0.5482 - val_accuracy: 0.8475\n",
            "Epoch 18/20\n",
            "143/143 [==============================] - ETA: 0s - loss: 0.0922 - accuracy: 0.9683\n",
            "Epoch 18: accuracy improved from 0.96543 to 0.96828, saving model to /content/drive/MyDrive/Colab Notebooks/Models/vgg19_3channel_5k.keras\n",
            "143/143 [==============================] - 329s 2s/step - loss: 0.0922 - accuracy: 0.9683 - val_loss: 0.5848 - val_accuracy: 0.8720\n",
            "Epoch 19/20\n",
            "143/143 [==============================] - ETA: 0s - loss: 0.0870 - accuracy: 0.9705\n",
            "Epoch 19: accuracy improved from 0.96828 to 0.97047, saving model to /content/drive/MyDrive/Colab Notebooks/Models/vgg19_3channel_5k.keras\n",
            "143/143 [==============================] - 312s 2s/step - loss: 0.0870 - accuracy: 0.9705 - val_loss: 0.6097 - val_accuracy: 0.8571\n",
            "Epoch 20/20\n",
            "143/143 [==============================] - ETA: 0s - loss: 0.0773 - accuracy: 0.9716\n",
            "Epoch 20: accuracy improved from 0.97047 to 0.97156, saving model to /content/drive/MyDrive/Colab Notebooks/Models/vgg19_3channel_5k.keras\n",
            "143/143 [==============================] - 321s 2s/step - loss: 0.0773 - accuracy: 0.9716 - val_loss: 0.5499 - val_accuracy: 0.8624\n"
          ]
        }
      ]
    },
    {
      "cell_type": "code",
      "source": [
        "# plot the loss\n",
        "plt.plot(history.history['loss'], label='train loss')\n",
        "plt.plot(history.history['val_loss'], label='val loss')\n",
        "plt.legend()\n",
        "plt.show()\n",
        "plt.savefig('LossVal_loss')\n",
        "\n",
        "# plot the accuracy\n",
        "plt.plot(history.history['accuracy'], label='train acc')\n",
        "plt.plot(history.history['val_accuracy'], label='val acc')\n",
        "plt.legend()\n",
        "plt.show()\n",
        "plt.savefig('AccVal_acc')"
      ],
      "metadata": {
        "colab": {
          "base_uri": "https://localhost:8080/",
          "height": 861
        },
        "id": "6lbo-9eNVhtx",
        "outputId": "90b31ea4-6dc6-4e95-80c4-da4a9e3ccf8f"
      },
      "execution_count": 27,
      "outputs": [
        {
          "output_type": "display_data",
          "data": {
            "text/plain": [
              "<Figure size 640x480 with 1 Axes>"
            ],
            "image/png": "[encoded data removed]"
          },
          "metadata": {}
        },
        {
          "output_type": "display_data",
          "data": {
            "text/plain": [
              "<Figure size 640x480 with 1 Axes>"
            ],
            "image/png": "[encoded data removed]"
          },
          "metadata": {}
        },
        {
          "output_type": "display_data",
          "data": {
            "text/plain": [
              "<Figure size 640x480 with 0 Axes>"
            ]
          },
          "metadata": {}
        }
      ]
    },
    {
      "cell_type": "code",
      "source": [
        "# Evaluate the model on the test set\n",
        "test_loss, test_accuracy = model.evaluate(test_set)\n",
        "\n",
        "print(f'Test Loss: {test_loss}')\n",
        "print(f'Test Accuracy: {test_accuracy}')"
      ],
      "metadata": {
        "colab": {
          "base_uri": "https://localhost:8080/"
        },
        "id": "D9yk_y2HNSPT",
        "outputId": "a1ed8986-573d-4cab-8ac6-f0b17f5c469c"
      },
      "execution_count": 28,
      "outputs": [
        {
          "output_type": "stream",
          "name": "stdout",
          "text": [
            "41/41 [==============================] - 346s 9s/step - loss: 0.3313 - accuracy: 0.9092\n",
            "Test Loss: 0.3312849700450897\n",
            "Test Accuracy: 0.909229576587677\n"
          ]
        }
      ]
    },
    {
      "cell_type": "markdown",
      "source": [
        "# Confusion Matrix"
      ],
      "metadata": {
        "id": "XfxqaKnzVgdm"
      }
    },
    {
      "cell_type": "code",
      "source": [
        "from sklearn.metrics import confusion_matrix\n",
        "import seaborn as sns"
      ],
      "metadata": {
        "id": "VDGYG330PL18"
      },
      "execution_count": 29,
      "outputs": []
    },
    {
      "cell_type": "code",
      "source": [
        "def get_labels_and_predictions(generator, model):\n",
        "    true_labels = []\n",
        "    predictions = []\n",
        "\n",
        "    # Iterate over the generator\n",
        "    for i in range(len(generator)):\n",
        "        x_batch, y_batch = generator[i]\n",
        "        y_pred = model.predict(x_batch)\n",
        "\n",
        "        true_labels.extend(np.argmax(y_batch, axis=1))  # Assuming y_batch is one-hot encoded\n",
        "        predictions.extend(np.argmax(y_pred, axis=1))\n",
        "\n",
        "    return np.array(true_labels), np.array(predictions)\n"
      ],
      "metadata": {
        "id": "6F8LcOeLPZkN"
      },
      "execution_count": 30,
      "outputs": []
    },
    {
      "cell_type": "code",
      "source": [
        "def plot_confusion_matrix(cm, title='Confusion Matrix'):\n",
        "    plt.figure(figsize=(10, 8))\n",
        "    sns.heatmap(cm, annot=True, fmt='d', cmap='Blues')\n",
        "    plt.xlabel('Predicted')\n",
        "    plt.ylabel('True')\n",
        "    plt.title(title)\n",
        "    plt.show()"
      ],
      "metadata": {
        "id": "7n0K4ACpQaXA"
      },
      "execution_count": 31,
      "outputs": []
    },
    {
      "cell_type": "code",
      "source": [
        "# Get true labels and predictions for the training set\n",
        "true_labels_train, predictions_train = get_labels_and_predictions(training_set, model)\n",
        "\n",
        "# Get true labels and predictions for the test set\n",
        "true_labels_test, predictions_test = get_labels_and_predictions(test_set, model)"
      ],
      "metadata": {
        "colab": {
          "base_uri": "https://localhost:8080/"
        },
        "collapsed": true,
        "id": "pguhMQNLQc4Q",
        "outputId": "6bcefb34-1dc1-42a9-a95f-68053d0a4cdf"
      },
      "execution_count": 34,
      "outputs": [
        {
          "output_type": "stream",
          "name": "stdout",
          "text": [
            "1/1 [==============================] - 1s 530ms/step\n",
            "1/1 [==============================] - 0s 359ms/step\n",
            "1/1 [==============================] - 0s 307ms/step\n",
            "1/1 [==============================] - 0s 497ms/step\n",
            "1/1 [==============================] - 1s 628ms/step\n",
            "1/1 [==============================] - 1s 642ms/step\n",
            "1/1 [==============================] - 1s 704ms/step\n",
            "1/1 [==============================] - 0s 357ms/step\n",
            "1/1 [==============================] - 0s 366ms/step\n",
            "1/1 [==============================] - 0s 291ms/step\n",
            "1/1 [==============================] - 0s 295ms/step\n",
            "1/1 [==============================] - 0s 352ms/step\n",
            "1/1 [==============================] - 0s 369ms/step\n",
            "1/1 [==============================] - 0s 389ms/step\n",
            "1/1 [==============================] - 0s 364ms/step\n",
            "1/1 [==============================] - 0s 385ms/step\n",
            "1/1 [==============================] - 0s 385ms/step\n",
            "1/1 [==============================] - 1s 529ms/step\n",
            "1/1 [==============================] - 0s 490ms/step\n",
            "1/1 [==============================] - 1s 531ms/step\n",
            "1/1 [==============================] - 1s 584ms/step\n",
            "1/1 [==============================] - 0s 354ms/step\n",
            "1/1 [==============================] - 0s 299ms/step\n",
            "1/1 [==============================] - 0s 415ms/step\n",
            "1/1 [==============================] - 0s 369ms/step\n",
            "1/1 [==============================] - 0s 356ms/step\n",
            "1/1 [==============================] - 0s 355ms/step\n",
            "1/1 [==============================] - 0s 353ms/step\n",
            "1/1 [==============================] - 0s 375ms/step\n",
            "1/1 [==============================] - 0s 371ms/step\n",
            "1/1 [==============================] - 0s 356ms/step\n",
            "1/1 [==============================] - 0s 357ms/step\n",
            "1/1 [==============================] - 1s 662ms/step\n",
            "1/1 [==============================] - 1s 589ms/step\n",
            "1/1 [==============================] - 1s 622ms/step\n",
            "1/1 [==============================] - 0s 383ms/step\n",
            "1/1 [==============================] - 0s 373ms/step\n",
            "1/1 [==============================] - 0s 370ms/step\n",
            "1/1 [==============================] - 0s 363ms/step\n",
            "1/1 [==============================] - 0s 344ms/step\n",
            "1/1 [==============================] - 0s 365ms/step\n",
            "1/1 [==============================] - 0s 372ms/step\n",
            "1/1 [==============================] - 0s 352ms/step\n",
            "1/1 [==============================] - 0s 371ms/step\n",
            "1/1 [==============================] - 0s 373ms/step\n",
            "1/1 [==============================] - 1s 542ms/step\n",
            "1/1 [==============================] - 1s 599ms/step\n",
            "1/1 [==============================] - 1s 658ms/step\n",
            "1/1 [==============================] - 1s 627ms/step\n",
            "1/1 [==============================] - 0s 375ms/step\n",
            "1/1 [==============================] - 0s 427ms/step\n",
            "1/1 [==============================] - 0s 367ms/step\n",
            "1/1 [==============================] - 0s 351ms/step\n",
            "1/1 [==============================] - 0s 364ms/step\n",
            "1/1 [==============================] - 0s 356ms/step\n",
            "1/1 [==============================] - 0s 376ms/step\n",
            "1/1 [==============================] - 0s 382ms/step\n",
            "1/1 [==============================] - 0s 334ms/step\n",
            "1/1 [==============================] - 0s 353ms/step\n",
            "1/1 [==============================] - 1s 593ms/step\n",
            "1/1 [==============================] - 1s 624ms/step\n",
            "1/1 [==============================] - 1s 642ms/step\n",
            "1/1 [==============================] - 1s 678ms/step\n",
            "1/1 [==============================] - 0s 368ms/step\n",
            "1/1 [==============================] - 0s 373ms/step\n",
            "1/1 [==============================] - 0s 372ms/step\n",
            "1/1 [==============================] - 0s 363ms/step\n",
            "1/1 [==============================] - 0s 373ms/step\n",
            "1/1 [==============================] - 0s 346ms/step\n",
            "1/1 [==============================] - 0s 330ms/step\n",
            "1/1 [==============================] - 0s 354ms/step\n",
            "1/1 [==============================] - 0s 353ms/step\n",
            "1/1 [==============================] - 0s 333ms/step\n",
            "1/1 [==============================] - 0s 484ms/step\n",
            "1/1 [==============================] - 1s 590ms/step\n",
            "1/1 [==============================] - 1s 737ms/step\n",
            "1/1 [==============================] - 1s 738ms/step\n",
            "1/1 [==============================] - 0s 419ms/step\n",
            "1/1 [==============================] - 0s 369ms/step\n",
            "1/1 [==============================] - 0s 338ms/step\n",
            "1/1 [==============================] - 0s 335ms/step\n",
            "1/1 [==============================] - 0s 364ms/step\n",
            "1/1 [==============================] - 0s 332ms/step\n",
            "1/1 [==============================] - 0s 362ms/step\n",
            "1/1 [==============================] - 0s 371ms/step\n",
            "1/1 [==============================] - 0s 373ms/step\n",
            "1/1 [==============================] - 0s 490ms/step\n",
            "1/1 [==============================] - 1s 618ms/step\n",
            "1/1 [==============================] - 1s 553ms/step\n",
            "1/1 [==============================] - 1s 616ms/step\n",
            "1/1 [==============================] - 0s 350ms/step\n",
            "1/1 [==============================] - 0s 347ms/step\n",
            "1/1 [==============================] - 0s 356ms/step\n",
            "1/1 [==============================] - 0s 335ms/step\n",
            "1/1 [==============================] - 0s 356ms/step\n",
            "1/1 [==============================] - 0s 355ms/step\n",
            "1/1 [==============================] - 0s 363ms/step\n",
            "1/1 [==============================] - 0s 334ms/step\n",
            "1/1 [==============================] - 0s 359ms/step\n",
            "1/1 [==============================] - 0s 352ms/step\n",
            "1/1 [==============================] - 0s 356ms/step\n",
            "1/1 [==============================] - 1s 655ms/step\n",
            "1/1 [==============================] - 1s 632ms/step\n",
            "1/1 [==============================] - 1s 708ms/step\n",
            "1/1 [==============================] - 0s 362ms/step\n",
            "1/1 [==============================] - 0s 372ms/step\n",
            "1/1 [==============================] - 0s 373ms/step\n",
            "1/1 [==============================] - 0s 381ms/step\n",
            "1/1 [==============================] - 0s 330ms/step\n",
            "1/1 [==============================] - 0s 334ms/step\n",
            "1/1 [==============================] - 0s 366ms/step\n",
            "1/1 [==============================] - 0s 371ms/step\n",
            "1/1 [==============================] - 0s 359ms/step\n",
            "1/1 [==============================] - 0s 361ms/step\n",
            "1/1 [==============================] - 0s 414ms/step\n",
            "1/1 [==============================] - 1s 618ms/step\n",
            "1/1 [==============================] - 1s 684ms/step\n",
            "1/1 [==============================] - 1s 582ms/step\n",
            "1/1 [==============================] - 0s 332ms/step\n",
            "1/1 [==============================] - 0s 336ms/step\n",
            "1/1 [==============================] - 0s 379ms/step\n",
            "1/1 [==============================] - 0s 353ms/step\n",
            "1/1 [==============================] - 0s 349ms/step\n",
            "1/1 [==============================] - 0s 355ms/step\n",
            "1/1 [==============================] - 0s 362ms/step\n",
            "1/1 [==============================] - 0s 376ms/step\n",
            "1/1 [==============================] - 0s 375ms/step\n",
            "1/1 [==============================] - 0s 361ms/step\n",
            "1/1 [==============================] - 0s 486ms/step\n",
            "1/1 [==============================] - 1s 593ms/step\n",
            "1/1 [==============================] - 1s 594ms/step\n",
            "1/1 [==============================] - 1s 678ms/step\n",
            "1/1 [==============================] - 0s 340ms/step\n",
            "1/1 [==============================] - 0s 360ms/step\n",
            "1/1 [==============================] - 0s 361ms/step\n",
            "1/1 [==============================] - 0s 405ms/step\n",
            "1/1 [==============================] - 0s 359ms/step\n",
            "1/1 [==============================] - 0s 358ms/step\n",
            "1/1 [==============================] - 0s 336ms/step\n",
            "1/1 [==============================] - 0s 358ms/step\n",
            "1/1 [==============================] - 0s 373ms/step\n",
            "1/1 [==============================] - 0s 375ms/step\n",
            "1/1 [==============================] - 0s 410ms/step\n",
            "1/1 [==============================] - 1s 565ms/step\n",
            "1/1 [==============================] - 1s 626ms/step\n",
            "1/1 [==============================] - 1s 692ms/step\n",
            "1/1 [==============================] - 1s 601ms/step\n",
            "1/1 [==============================] - 1s 687ms/step\n",
            "1/1 [==============================] - 0s 450ms/step\n",
            "1/1 [==============================] - 0s 339ms/step\n",
            "1/1 [==============================] - 0s 360ms/step\n",
            "1/1 [==============================] - 0s 365ms/step\n",
            "1/1 [==============================] - 0s 382ms/step\n",
            "1/1 [==============================] - 0s 377ms/step\n",
            "1/1 [==============================] - 0s 398ms/step\n",
            "1/1 [==============================] - 0s 388ms/step\n",
            "1/1 [==============================] - 0s 353ms/step\n",
            "1/1 [==============================] - 0s 372ms/step\n",
            "1/1 [==============================] - 0s 343ms/step\n",
            "1/1 [==============================] - 0s 361ms/step\n",
            "1/1 [==============================] - 0s 358ms/step\n",
            "1/1 [==============================] - 0s 380ms/step\n",
            "1/1 [==============================] - 0s 358ms/step\n",
            "1/1 [==============================] - 0s 391ms/step\n",
            "1/1 [==============================] - 0s 377ms/step\n",
            "1/1 [==============================] - 0s 457ms/step\n",
            "1/1 [==============================] - 1s 682ms/step\n",
            "1/1 [==============================] - 1s 613ms/step\n",
            "1/1 [==============================] - 1s 628ms/step\n",
            "1/1 [==============================] - 1s 579ms/step\n",
            "1/1 [==============================] - 1s 727ms/step\n",
            "1/1 [==============================] - 0s 470ms/step\n",
            "1/1 [==============================] - 0s 361ms/step\n",
            "1/1 [==============================] - 0s 391ms/step\n",
            "1/1 [==============================] - 0s 378ms/step\n",
            "1/1 [==============================] - 0s 372ms/step\n",
            "1/1 [==============================] - 0s 360ms/step\n",
            "1/1 [==============================] - 0s 337ms/step\n",
            "1/1 [==============================] - 0s 372ms/step\n",
            "1/1 [==============================] - 0s 360ms/step\n",
            "1/1 [==============================] - 0s 378ms/step\n",
            "1/1 [==============================] - 0s 360ms/step\n",
            "1/1 [==============================] - 0s 371ms/step\n",
            "1/1 [==============================] - 0s 359ms/step\n"
          ]
        }
      ]
    },
    {
      "cell_type": "code",
      "source": [
        "# Compute the confusion matrices\n",
        "cm_train = confusion_matrix(true_labels_train, predictions_train)\n",
        "cm_test = confusion_matrix(true_labels_test, predictions_test)"
      ],
      "metadata": {
        "id": "CRKeAFRUSXdP"
      },
      "execution_count": 35,
      "outputs": []
    },
    {
      "cell_type": "code",
      "source": [
        "# Plot the confusion matrices\n",
        "plot_confusion_matrix(cm_train, title='Confusion Matrix - Training Data')\n",
        "plot_confusion_matrix(cm_test, title='Confusion Matrix - Test Data')"
      ],
      "metadata": {
        "colab": {
          "base_uri": "https://localhost:8080/",
          "height": 1000
        },
        "id": "btH1kJIQSZSN",
        "outputId": "0c3243c4-b480-4cce-a0b3-e0b092a81486"
      },
      "execution_count": 36,
      "outputs": [
        {
          "output_type": "display_data",
          "data": {
            "text/plain": [
              "<Figure size 1000x800 with 2 Axes>"
            ],
            "image/png": "[encoded data removed]"
          },
          "metadata": {}
        },
        {
          "output_type": "display_data",
          "data": {
            "text/plain": [
              "<Figure size 1000x800 with 2 Axes>"
            ],
            "image/png": "[encoded data removed]"
          },
          "metadata": {}
        }
      ]
    },
    {
      "cell_type": "markdown",
      "source": [
        "# Precision, Recall, F1-score"
      ],
      "metadata": {
        "id": "QEBxc86qVk8d"
      }
    },
    {
      "cell_type": "code",
      "source": [
        "from sklearn.metrics import precision_score, recall_score, f1_score"
      ],
      "metadata": {
        "id": "FeajByNWVpuT"
      },
      "execution_count": 37,
      "outputs": []
    },
    {
      "cell_type": "code",
      "source": [
        "# For training data\n",
        "precision_train = precision_score(true_labels_train, predictions_train, average='weighted')\n",
        "recall_train = recall_score(true_labels_train, predictions_train, average='weighted')\n",
        "f1_train = f1_score(true_labels_train, predictions_train, average='weighted')\n",
        "\n",
        "print(f'Training Precision: {precision_train}')\n",
        "print(f'Training Recall: {recall_train}')\n",
        "print(f'Training F1 Score: {f1_train}')\n",
        "\n",
        "# For test data\n",
        "precision_test = precision_score(true_labels_test, predictions_test, average='weighted')\n",
        "recall_test = recall_score(true_labels_test, predictions_test, average='weighted')\n",
        "f1_test = f1_score(true_labels_test, predictions_test, average='weighted')\n",
        "\n",
        "print(f'Test Precision: {precision_test}')\n",
        "print(f'Test Recall: {recall_test}')\n",
        "print(f'Test F1 Score: {f1_test}')"
      ],
      "metadata": {
        "colab": {
          "base_uri": "https://localhost:8080/"
        },
        "id": "qwEl7VcpV59T",
        "outputId": "564cafec-1ad0-4b65-dc6a-c497f4fb8ad5"
      },
      "execution_count": 38,
      "outputs": [
        {
          "output_type": "stream",
          "name": "stdout",
          "text": [
            "Training Precision: 0.96333592856313\n",
            "Training Recall: 0.9630277838547364\n",
            "Training F1 Score: 0.9629159809785777\n",
            "Test Precision: 0.9092404925356868\n",
            "Test Recall: 0.9092295957284515\n",
            "Test F1 Score: 0.9057956629875705\n"
          ]
        }
      ]
    },
    {
      "cell_type": "code",
      "source": [
        "# save it as a h5 file\n",
        "\n",
        "\n",
        "from tensorflow.keras.models import load_model\n",
        "\n",
        "model.save('model_vgg19_preprocessed.h5')"
      ],
      "metadata": {
        "colab": {
          "base_uri": "https://localhost:8080/"
        },
        "id": "uGY-pO4eV4ok",
        "outputId": "fb9e30a0-a757-4ba3-9444-93c7eed58497"
      },
      "execution_count": null,
      "outputs": [
        {
          "output_type": "stream",
          "name": "stderr",
          "text": [
            "/usr/local/lib/python3.10/dist-packages/keras/src/engine/training.py:3103: UserWarning: You are saving your model as an HDF5 file via `model.save()`. This file format is considered legacy. We recommend using instead the native Keras format, e.g. `model.save('my_model.keras')`.\n",
            "  saving_api.save_model(\n"
          ]
        }
      ]
    },
    {
      "cell_type": "code",
      "source": [
        "model.save('model_vgg19_preprocessed.keras')\n"
      ],
      "metadata": {
        "id": "m3HNvd5OWIjc"
      },
      "execution_count": null,
      "outputs": []
    }
  ]
}