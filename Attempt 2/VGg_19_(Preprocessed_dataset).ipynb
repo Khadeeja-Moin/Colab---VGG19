{
  "nbformat": 4,
  "nbformat_minor": 0,
  "metadata": {
    "colab": {
      "provenance": [],
      "authorship_tag": "ABX9TyNPmidyDGfq30lhQ90cCDib",
      "include_colab_link": true
    },
    "kernelspec": {
      "name": "python3",
      "display_name": "Python 3"
    },
    "language_info": {
      "name": "python"
    }
  },
  "cells": [
    {
      "cell_type": "markdown",
      "metadata": {
        "id": "view-in-github",
        "colab_type": "text"
      },
      "source": [
        "<a href=\"https://colab.research.google.com/github/Khadeeja-Moin/Colab---VGG19/blob/main/Attempt%202/VGg_19_(Preprocessed_dataset).ipynb\" target=\"_parent\"><img src=\"https://colab.research.google.com/assets/colab-badge.svg\" alt=\"Open In Colab\"/></a>"
      ]
    },
    {
      "cell_type": "code",
      "execution_count": 2,
      "metadata": {
        "id": "WLeW8_RR0tH2"
      },
      "outputs": [],
      "source": [
        "import keras\n",
        "from tensorflow.keras.layers import Input, Lambda, Dense, Flatten,Conv2D\n",
        "from tensorflow.keras.models import Model\n",
        "from tensorflow.keras.applications.vgg19 import VGG19\n",
        "from tensorflow.keras.applications.resnet50 import preprocess_input\n",
        "from tensorflow.keras.preprocessing import image\n",
        "from tensorflow.keras.preprocessing.image import ImageDataGenerator,load_img\n",
        "from tensorflow.keras.models import Sequential\n",
        "import numpy as np\n",
        "from glob import glob\n",
        "import matplotlib.pyplot as plt"
      ]
    },
    {
      "cell_type": "code",
      "source": [
        "from tensorflow.keras.layers import MaxPooling2D"
      ],
      "metadata": {
        "id": "pISmZNUy1sls"
      },
      "execution_count": 3,
      "outputs": []
    },
    {
      "cell_type": "code",
      "source": [
        "from google.colab import drive\n",
        "drive.mount('/content/drive')"
      ],
      "metadata": {
        "colab": {
          "base_uri": "https://localhost:8080/"
        },
        "id": "YM-O9rEn1CwU",
        "outputId": "b6514c9a-2321-439d-9d6f-f497130cf875"
      },
      "execution_count": 4,
      "outputs": [
        {
          "output_type": "stream",
          "name": "stdout",
          "text": [
            "Drive already mounted at /content/drive; to attempt to forcibly remount, call drive.mount(\"/content/drive\", force_remount=True).\n"
          ]
        }
      ]
    },
    {
      "cell_type": "code",
      "source": [
        "train_path = '/content/drive/MyDrive/Colab Notebooks/brain_mri_dataset/Training3'\n",
        "test_path = '/content/drive/MyDrive/Colab Notebooks/brain_mri_dataset/Testing3'"
      ],
      "metadata": {
        "id": "u9E7comB081G"
      },
      "execution_count": 5,
      "outputs": []
    },
    {
      "cell_type": "code",
      "source": [
        "# re-size all the images to this because images in dataset are f varying sizes\n",
        "IMAGE_SIZE = [224, 224]"
      ],
      "metadata": {
        "id": "RxMCbOZ41RxM"
      },
      "execution_count": 6,
      "outputs": []
    },
    {
      "cell_type": "code",
      "source": [
        "# Import the Vgg 19 library as shown below and add preprocessing layer to the front of VGG\n",
        "# Here we will be using imagenet weights\n",
        "# Images in our dataset are gray-scale\n",
        "\n",
        "mobilnet = VGG19(input_shape=IMAGE_SIZE + [3], weights='imagenet', include_top=False)\n",
        "\n",
        "# include_top = False actually drops first and last layer of model\n",
        "# My first layer should be 224 * 224 (Image dimension)\n",
        "# My last year will have 4 classes according to dataset"
      ],
      "metadata": {
        "id": "QQ0xfQzj1Vaz"
      },
      "execution_count": 7,
      "outputs": []
    },
    {
      "cell_type": "code",
      "source": [
        "# don't train existing weights\n",
        "for layer in mobilnet.layers:\n",
        "    layer.trainable = False"
      ],
      "metadata": {
        "id": "tx1F848v1YUA"
      },
      "execution_count": 8,
      "outputs": []
    },
    {
      "cell_type": "code",
      "source": [
        "# our layers - you can add more if you want\n",
        "x = Flatten()(mobilnet.output)\n",
        "prediction = Dense(4, activation='softmax')(x)\n",
        "\n",
        "# create a model object\n",
        "model = Model(inputs=mobilnet.input, outputs=prediction)"
      ],
      "metadata": {
        "id": "T9QeRFBn1cnx"
      },
      "execution_count": 9,
      "outputs": []
    },
    {
      "cell_type": "code",
      "source": [
        "# view the structure of the model\n",
        "model.summary()"
      ],
      "metadata": {
        "colab": {
          "base_uri": "https://localhost:8080/"
        },
        "id": "W925aysz1kK9",
        "outputId": "1ae5e02a-771c-428e-b76f-d5a5e21cafef"
      },
      "execution_count": 10,
      "outputs": [
        {
          "output_type": "stream",
          "name": "stdout",
          "text": [
            "Model: \"model\"\n",
            "_________________________________________________________________\n",
            " Layer (type)                Output Shape              Param #   \n",
            "=================================================================\n",
            " input_1 (InputLayer)        [(None, 224, 224, 3)]     0         \n",
            "                                                                 \n",
            " block1_conv1 (Conv2D)       (None, 224, 224, 64)      1792      \n",
            "                                                                 \n",
            " block1_conv2 (Conv2D)       (None, 224, 224, 64)      36928     \n",
            "                                                                 \n",
            " block1_pool (MaxPooling2D)  (None, 112, 112, 64)      0         \n",
            "                                                                 \n",
            " block2_conv1 (Conv2D)       (None, 112, 112, 128)     73856     \n",
            "                                                                 \n",
            " block2_conv2 (Conv2D)       (None, 112, 112, 128)     147584    \n",
            "                                                                 \n",
            " block2_pool (MaxPooling2D)  (None, 56, 56, 128)       0         \n",
            "                                                                 \n",
            " block3_conv1 (Conv2D)       (None, 56, 56, 256)       295168    \n",
            "                                                                 \n",
            " block3_conv2 (Conv2D)       (None, 56, 56, 256)       590080    \n",
            "                                                                 \n",
            " block3_conv3 (Conv2D)       (None, 56, 56, 256)       590080    \n",
            "                                                                 \n",
            " block3_conv4 (Conv2D)       (None, 56, 56, 256)       590080    \n",
            "                                                                 \n",
            " block3_pool (MaxPooling2D)  (None, 28, 28, 256)       0         \n",
            "                                                                 \n",
            " block4_conv1 (Conv2D)       (None, 28, 28, 512)       1180160   \n",
            "                                                                 \n",
            " block4_conv2 (Conv2D)       (None, 28, 28, 512)       2359808   \n",
            "                                                                 \n",
            " block4_conv3 (Conv2D)       (None, 28, 28, 512)       2359808   \n",
            "                                                                 \n",
            " block4_conv4 (Conv2D)       (None, 28, 28, 512)       2359808   \n",
            "                                                                 \n",
            " block4_pool (MaxPooling2D)  (None, 14, 14, 512)       0         \n",
            "                                                                 \n",
            " block5_conv1 (Conv2D)       (None, 14, 14, 512)       2359808   \n",
            "                                                                 \n",
            " block5_conv2 (Conv2D)       (None, 14, 14, 512)       2359808   \n",
            "                                                                 \n",
            " block5_conv3 (Conv2D)       (None, 14, 14, 512)       2359808   \n",
            "                                                                 \n",
            " block5_conv4 (Conv2D)       (None, 14, 14, 512)       2359808   \n",
            "                                                                 \n",
            " block5_pool (MaxPooling2D)  (None, 7, 7, 512)         0         \n",
            "                                                                 \n",
            " flatten (Flatten)           (None, 25088)             0         \n",
            "                                                                 \n",
            " dense (Dense)               (None, 4)                 100356    \n",
            "                                                                 \n",
            "=================================================================\n",
            "Total params: 20124740 (76.77 MB)\n",
            "Trainable params: 100356 (392.02 KB)\n",
            "Non-trainable params: 20024384 (76.39 MB)\n",
            "_________________________________________________________________\n"
          ]
        }
      ]
    },
    {
      "cell_type": "code",
      "source": [
        "### Create Model from scratch using CNN\n",
        "model=Sequential()\n",
        "model.add(Conv2D(filters=16,kernel_size=2,padding=\"same\",activation=\"relu\",input_shape=(224,224,3)))\n",
        "model.add(MaxPooling2D(pool_size=2))\n",
        "model.add(Conv2D(filters=32,kernel_size=2,padding=\"same\",activation =\"relu\"))\n",
        "model.add(MaxPooling2D(pool_size=2))\n",
        "model.add(Conv2D(filters=64,kernel_size=2,padding=\"same\",activation=\"relu\"))\n",
        "model.add(MaxPooling2D(pool_size=2))\n",
        "model.add(Flatten())\n",
        "model.add(Dense(500,activation=\"relu\"))\n",
        "model.add(Dense(4,activation=\"softmax\"))  # 4 Neurons in the Output Layer\n",
        "model.summary()"
      ],
      "metadata": {
        "colab": {
          "base_uri": "https://localhost:8080/"
        },
        "id": "xG-t-cNc1w-Q",
        "outputId": "80efd355-f121-42f8-b7f4-d25a43de3efe"
      },
      "execution_count": 11,
      "outputs": [
        {
          "output_type": "stream",
          "name": "stdout",
          "text": [
            "Model: \"sequential\"\n",
            "_________________________________________________________________\n",
            " Layer (type)                Output Shape              Param #   \n",
            "=================================================================\n",
            " conv2d (Conv2D)             (None, 224, 224, 16)      208       \n",
            "                                                                 \n",
            " max_pooling2d (MaxPooling2  (None, 112, 112, 16)      0         \n",
            " D)                                                              \n",
            "                                                                 \n",
            " conv2d_1 (Conv2D)           (None, 112, 112, 32)      2080      \n",
            "                                                                 \n",
            " max_pooling2d_1 (MaxPoolin  (None, 56, 56, 32)        0         \n",
            " g2D)                                                            \n",
            "                                                                 \n",
            " conv2d_2 (Conv2D)           (None, 56, 56, 64)        8256      \n",
            "                                                                 \n",
            " max_pooling2d_2 (MaxPoolin  (None, 28, 28, 64)        0         \n",
            " g2D)                                                            \n",
            "                                                                 \n",
            " flatten_1 (Flatten)         (None, 50176)             0         \n",
            "                                                                 \n",
            " dense_1 (Dense)             (None, 500)               25088500  \n",
            "                                                                 \n",
            " dense_2 (Dense)             (None, 4)                 2004      \n",
            "                                                                 \n",
            "=================================================================\n",
            "Total params: 25101048 (95.75 MB)\n",
            "Trainable params: 25101048 (95.75 MB)\n",
            "Non-trainable params: 0 (0.00 Byte)\n",
            "_________________________________________________________________\n"
          ]
        }
      ]
    },
    {
      "cell_type": "code",
      "source": [
        "# tell the model what cost and optimization method to use\n",
        "model.compile(\n",
        "  loss='categorical_crossentropy',\n",
        "  optimizer='adam',\n",
        "  metrics=['accuracy']\n",
        ")"
      ],
      "metadata": {
        "id": "sJsAWVTx110_"
      },
      "execution_count": 12,
      "outputs": []
    },
    {
      "cell_type": "code",
      "source": [
        "# Use the Image Data Generator to import the images from the dataset\n",
        "from tensorflow.keras.preprocessing.image import ImageDataGenerator\n",
        "\n",
        "train_datagen = ImageDataGenerator(rescale = 1./255,\n",
        "                                   shear_range = 0.2,\n",
        "                                   zoom_range = 0.2,\n",
        "                                   horizontal_flip = True)\n",
        "\n",
        "test_datagen = ImageDataGenerator(rescale = 1./255)"
      ],
      "metadata": {
        "id": "kYCAoArN15oY"
      },
      "execution_count": 13,
      "outputs": []
    },
    {
      "cell_type": "code",
      "source": [
        "# Make sure you provide the same target size as initialied for the image size\n",
        "training_set = train_datagen.flow_from_directory('/content/drive/MyDrive/Colab Notebooks/brain_mri_dataset/Training3',\n",
        "                                                 target_size = (224, 224),\n",
        "                                                 batch_size = 32,\n",
        "                                                 class_mode = 'categorical')"
      ],
      "metadata": {
        "colab": {
          "base_uri": "https://localhost:8080/"
        },
        "id": "JNo1amF7182k",
        "outputId": "bddbf937-081b-4ed7-c2f1-d8385e029cc9"
      },
      "execution_count": 14,
      "outputs": [
        {
          "output_type": "stream",
          "name": "stdout",
          "text": [
            "Found 5712 images belonging to 4 classes.\n"
          ]
        }
      ]
    },
    {
      "cell_type": "code",
      "source": [
        "test_set = test_datagen.flow_from_directory('/content/drive/MyDrive/Colab Notebooks/brain_mri_dataset/Testing3',\n",
        "                                            target_size = (224, 224),\n",
        "                                            batch_size = 32,\n",
        "                                            class_mode = 'categorical')"
      ],
      "metadata": {
        "colab": {
          "base_uri": "https://localhost:8080/"
        },
        "id": "qZ3F5zbS2B98",
        "outputId": "ecb0b04d-7785-43af-b1aa-b0d20cfb55d4"
      },
      "execution_count": 15,
      "outputs": [
        {
          "output_type": "stream",
          "name": "stdout",
          "text": [
            "Found 1311 images belonging to 4 classes.\n"
          ]
        }
      ]
    },
    {
      "cell_type": "code",
      "source": [
        "type(training_set)"
      ],
      "metadata": {
        "colab": {
          "base_uri": "https://localhost:8080/",
          "height": 239
        },
        "id": "yJNfMDkxQfvN",
        "outputId": "eb8a389b-c9c0-4929-d9cd-a078e81f2cc6"
      },
      "execution_count": 16,
      "outputs": [
        {
          "output_type": "execute_result",
          "data": {
            "text/plain": [
              "keras.src.preprocessing.image.DirectoryIterator"
            ],
            "text/html": [
              "<div style=\"max-width:800px; border: 1px solid var(--colab-border-color);\"><style>\n",
              "      pre.function-repr-contents {\n",
              "        overflow-x: auto;\n",
              "        padding: 8px 12px;\n",
              "        max-height: 500px;\n",
              "      }\n",
              "\n",
              "      pre.function-repr-contents.function-repr-contents-collapsed {\n",
              "        cursor: pointer;\n",
              "        max-height: 100px;\n",
              "      }\n",
              "    </style>\n",
              "    <pre style=\"white-space: initial; background:\n",
              "         var(--colab-secondary-surface-color); padding: 8px 12px;\n",
              "         border-bottom: 1px solid var(--colab-border-color);\"><b>keras.src.preprocessing.image.DirectoryIterator</b><br/>def __init__(directory, image_data_generator, target_size=(256, 256), color_mode=&#x27;rgb&#x27;, classes=None, class_mode=&#x27;categorical&#x27;, batch_size=32, shuffle=True, seed=None, data_format=None, save_to_dir=None, save_prefix=&#x27;&#x27;, save_format=&#x27;png&#x27;, follow_links=False, subset=None, interpolation=&#x27;nearest&#x27;, keep_aspect_ratio=False, dtype=None)</pre><pre class=\"function-repr-contents function-repr-contents-collapsed\" style=\"\"><a class=\"filepath\" style=\"display:none\" href=\"#\">/usr/local/lib/python3.10/dist-packages/keras/src/preprocessing/image.py</a>Iterator capable of reading images from a directory on disk.\n",
              "\n",
              "Deprecated: `tf.keras.preprocessing.image.DirectoryIterator` is not\n",
              "recommended for new code. Prefer loading images with\n",
              "`tf.keras.utils.image_dataset_from_directory` and transforming the output\n",
              "`tf.data.Dataset` with preprocessing layers. For more information, see the\n",
              "tutorials for [loading images](\n",
              "https://www.tensorflow.org/tutorials/load_data/images) and\n",
              "[augmenting images](\n",
              "https://www.tensorflow.org/tutorials/images/data_augmentation), as well as\n",
              "the [preprocessing layer guide](\n",
              "https://www.tensorflow.org/guide/keras/preprocessing_layers).\n",
              "\n",
              "Args:\n",
              "    directory: Path to the directory to read images from. Each subdirectory\n",
              "      in this directory will be considered to contain images from one class,\n",
              "      or alternatively you could specify class subdirectories via the\n",
              "      `classes` argument.\n",
              "    image_data_generator: Instance of `ImageDataGenerator` to use for random\n",
              "      transformations and normalization.\n",
              "    target_size: tuple of integers, dimensions to resize input images to.\n",
              "    color_mode: One of `&quot;rgb&quot;`, `&quot;rgba&quot;`, `&quot;grayscale&quot;`. Color mode to read\n",
              "      images.\n",
              "    classes: Optional list of strings, names of subdirectories containing\n",
              "      images from each class (e.g. `[&quot;dogs&quot;, &quot;cats&quot;]`). It will be computed\n",
              "      automatically if not set.\n",
              "    class_mode: Mode for yielding the targets:\n",
              "        - `&quot;binary&quot;`: binary targets (if there are only two classes),\n",
              "        - `&quot;categorical&quot;`: categorical targets,\n",
              "        - `&quot;sparse&quot;`: integer targets,\n",
              "        - `&quot;input&quot;`: targets are images identical to input images (mainly\n",
              "          used to work with autoencoders),\n",
              "        - `None`: no targets get yielded (only input images are yielded).\n",
              "    batch_size: Integer, size of a batch.\n",
              "    shuffle: Boolean, whether to shuffle the data between epochs.\n",
              "    seed: Random seed for data shuffling.\n",
              "    data_format: String, one of `channels_first`, `channels_last`.\n",
              "    save_to_dir: Optional directory where to save the pictures being\n",
              "      yielded, in a viewable format. This is useful for visualizing the\n",
              "      random transformations being applied, for debugging purposes.\n",
              "    save_prefix: String prefix to use for saving sample images (if\n",
              "      `save_to_dir` is set).\n",
              "    save_format: Format to use for saving sample images (if `save_to_dir` is\n",
              "      set).\n",
              "    subset: Subset of data (`&quot;training&quot;` or `&quot;validation&quot;`) if\n",
              "      validation_split is set in ImageDataGenerator.\n",
              "    interpolation: Interpolation method used to resample the image if the\n",
              "      target size is different from that of the loaded image. Supported\n",
              "      methods are &quot;nearest&quot;, &quot;bilinear&quot;, and &quot;bicubic&quot;. If PIL version 1.1.3\n",
              "      or newer is installed, &quot;lanczos&quot; is also supported. If PIL version\n",
              "      3.4.0 or newer is installed, &quot;box&quot; and &quot;hamming&quot; are also supported.\n",
              "      By default, &quot;nearest&quot; is used.\n",
              "    keep_aspect_ratio: Boolean, whether to resize images to a target size\n",
              "        without aspect ratio distortion. The image is cropped in the center\n",
              "        with target aspect ratio before resizing.\n",
              "    dtype: Dtype to use for generated arrays.</pre>\n",
              "      <script>\n",
              "      if (google.colab.kernel.accessAllowed && google.colab.files && google.colab.files.view) {\n",
              "        for (const element of document.querySelectorAll('.filepath')) {\n",
              "          element.style.display = 'block'\n",
              "          element.onclick = (event) => {\n",
              "            event.preventDefault();\n",
              "            event.stopPropagation();\n",
              "            google.colab.files.view(element.textContent, 449);\n",
              "          };\n",
              "        }\n",
              "      }\n",
              "      for (const element of document.querySelectorAll('.function-repr-contents')) {\n",
              "        element.onclick = (event) => {\n",
              "          event.preventDefault();\n",
              "          event.stopPropagation();\n",
              "          element.classList.toggle('function-repr-contents-collapsed');\n",
              "        };\n",
              "      }\n",
              "      </script>\n",
              "      </div>"
            ]
          },
          "metadata": {},
          "execution_count": 16
        }
      ]
    },
    {
      "cell_type": "code",
      "source": [
        "# Initialize lists to hold the images and labels\n",
        "test_data = []\n",
        "test_labels = []\n",
        "\n",
        "# Loop through the iterator and collect all images and labels\n",
        "for _ in range(len(test_set)):\n",
        "    images, labels = test_set.next()\n",
        "    test_data.append(images)\n",
        "    test_labels.append(labels)\n",
        "\n",
        "# Convert lists to NumPy arrays\n",
        "test_data = np.concatenate(test_data)\n",
        "test_labels = np.concatenate(test_labels)\n",
        "\n",
        "# Verify the shapes of the resulting arrays\n",
        "print(\"Shape of the image arrays:\", test_data.shape)\n",
        "print(\"Shape of the label arrays:\", test_labels.shape)"
      ],
      "metadata": {
        "colab": {
          "base_uri": "https://localhost:8080/"
        },
        "id": "9FhOgYqNV6v2",
        "outputId": "298271f8-4a83-4b2b-eb7f-f181fd80b7f8"
      },
      "execution_count": 17,
      "outputs": [
        {
          "output_type": "stream",
          "name": "stdout",
          "text": [
            "Shape of the image arrays: (1311, 224, 224, 3)\n",
            "Shape of the label arrays: (1311, 4)\n"
          ]
        }
      ]
    },
    {
      "cell_type": "code",
      "source": [
        "# Initialize lists to hold the images and labels\n",
        "train_data = []\n",
        "train_labels = []\n",
        "\n",
        "# Loop through the iterator and collect all images and labels\n",
        "for _ in range(len(training_set)):\n",
        "    images, labels = training_set.next()\n",
        "    train_data.append(images)\n",
        "    train_labels.append(labels)\n",
        "\n",
        "# Convert lists to NumPy arrays\n",
        "train_data = np.concatenate(train_data)\n",
        "train_labels = np.concatenate(train_labels)\n",
        "\n",
        "# Verify the shapes of the resulting arrays\n",
        "print(\"Shape of the image arrays:\", train_data.shape)\n",
        "print(\"Shape of the label arrays:\", train_labels.shape)"
      ],
      "metadata": {
        "colab": {
          "base_uri": "https://localhost:8080/"
        },
        "id": "-fcFTERDcw9Y",
        "outputId": "e1b58b25-453d-4ac3-8978-44b0342ba209"
      },
      "execution_count": 18,
      "outputs": [
        {
          "output_type": "stream",
          "name": "stdout",
          "text": [
            "Shape of the image arrays: (5712, 224, 224, 3)\n",
            "Shape of the label arrays: (5712, 4)\n"
          ]
        }
      ]
    },
    {
      "cell_type": "code",
      "source": [
        "# Verify the shapes of the resulting arrays\n",
        "print(\"Shape of the image arrays:\", train_data.shape)\n",
        "print(\"Shape of the label arrays:\", train_labels.shape)"
      ],
      "metadata": {
        "colab": {
          "base_uri": "https://localhost:8080/"
        },
        "id": "tlUUriPvdQc4",
        "outputId": "e84ef443-7389-4841-f0ee-5bd50ddc1f0e"
      },
      "execution_count": 19,
      "outputs": [
        {
          "output_type": "stream",
          "name": "stdout",
          "text": [
            "Shape of the image arrays: (5712, 224, 224, 3)\n",
            "Shape of the label arrays: (5712, 4)\n"
          ]
        }
      ]
    },
    {
      "cell_type": "code",
      "source": [
        "# fit the model\n",
        "# Run the cell. It will take some time to execute\n",
        "r = model.fit(\n",
        "  train_data,\n",
        "  train_labels,\n",
        "  validation_data=(test_data, test_labels),\n",
        "  epochs=20,\n",
        "  steps_per_epoch=len(training_set),\n",
        "  validation_steps=len(test_set)\n",
        ")"
      ],
      "metadata": {
        "colab": {
          "base_uri": "https://localhost:8080/"
        },
        "id": "2dkgonSy2GSi",
        "outputId": "b4964627-43a6-4070-fec0-6313edae66f4"
      },
      "execution_count": 20,
      "outputs": [
        {
          "output_type": "stream",
          "name": "stdout",
          "text": [
            "Epoch 1/20\n",
            "179/179 [==============================] - 304s 2s/step - loss: 0.8884 - accuracy: 0.6530 - val_loss: 0.6717 - val_accuracy: 0.7681\n",
            "Epoch 2/20\n",
            "179/179 [==============================] - 303s 2s/step - loss: 0.4649 - accuracy: 0.8232 - val_loss: 0.9333 - val_accuracy: 0.7391\n",
            "Epoch 3/20\n",
            "179/179 [==============================] - 298s 2s/step - loss: 0.2996 - accuracy: 0.8848 - val_loss: 0.4813 - val_accuracy: 0.8192\n",
            "Epoch 4/20\n",
            "179/179 [==============================] - 299s 2s/step - loss: 0.1790 - accuracy: 0.9356 - val_loss: 0.8234 - val_accuracy: 0.7910\n",
            "Epoch 5/20\n",
            "179/179 [==============================] - 307s 2s/step - loss: 0.0916 - accuracy: 0.9688 - val_loss: 0.7294 - val_accuracy: 0.8146\n",
            "Epoch 6/20\n",
            "179/179 [==============================] - 303s 2s/step - loss: 0.0572 - accuracy: 0.9806 - val_loss: 1.0283 - val_accuracy: 0.7910\n",
            "Epoch 7/20\n",
            "179/179 [==============================] - 305s 2s/step - loss: 0.0319 - accuracy: 0.9918 - val_loss: 1.1060 - val_accuracy: 0.8169\n",
            "Epoch 8/20\n",
            "179/179 [==============================] - 303s 2s/step - loss: 0.0278 - accuracy: 0.9898 - val_loss: 0.9730 - val_accuracy: 0.8337\n",
            "Epoch 9/20\n",
            "179/179 [==============================] - 305s 2s/step - loss: 0.0309 - accuracy: 0.9897 - val_loss: 0.9096 - val_accuracy: 0.8261\n",
            "Epoch 10/20\n",
            "179/179 [==============================] - 304s 2s/step - loss: 0.0407 - accuracy: 0.9876 - val_loss: 0.9671 - val_accuracy: 0.8322\n",
            "Epoch 11/20\n",
            "179/179 [==============================] - 314s 2s/step - loss: 0.0264 - accuracy: 0.9919 - val_loss: 1.0898 - val_accuracy: 0.8093\n",
            "Epoch 12/20\n",
            "179/179 [==============================] - 317s 2s/step - loss: 0.0152 - accuracy: 0.9954 - val_loss: 0.8603 - val_accuracy: 0.8528\n",
            "Epoch 13/20\n",
            "179/179 [==============================] - 313s 2s/step - loss: 0.0174 - accuracy: 0.9937 - val_loss: 1.7432 - val_accuracy: 0.7811\n",
            "Epoch 14/20\n",
            "179/179 [==============================] - 312s 2s/step - loss: 0.0235 - accuracy: 0.9923 - val_loss: 0.9733 - val_accuracy: 0.8360\n",
            "Epoch 15/20\n",
            "179/179 [==============================] - 310s 2s/step - loss: 0.0155 - accuracy: 0.9949 - val_loss: 0.7985 - val_accuracy: 0.8543\n",
            "Epoch 16/20\n",
            "179/179 [==============================] - 308s 2s/step - loss: 0.0052 - accuracy: 0.9991 - val_loss: 1.5041 - val_accuracy: 0.8337\n",
            "Epoch 17/20\n",
            "179/179 [==============================] - 313s 2s/step - loss: 4.0100e-04 - accuracy: 1.0000 - val_loss: 1.2518 - val_accuracy: 0.8558\n",
            "Epoch 18/20\n",
            "179/179 [==============================] - 316s 2s/step - loss: 1.4491e-04 - accuracy: 1.0000 - val_loss: 1.2469 - val_accuracy: 0.8543\n",
            "Epoch 19/20\n",
            "179/179 [==============================] - 317s 2s/step - loss: 9.2036e-05 - accuracy: 1.0000 - val_loss: 1.2341 - val_accuracy: 0.8551\n",
            "Epoch 20/20\n",
            "179/179 [==============================] - 314s 2s/step - loss: 7.0990e-05 - accuracy: 1.0000 - val_loss: 1.2362 - val_accuracy: 0.8551\n"
          ]
        }
      ]
    },
    {
      "cell_type": "code",
      "source": [
        "# plot the loss\n",
        "plt.plot(r.history['loss'], label='train loss')\n",
        "plt.plot(r.history['val_loss'], label='val loss')\n",
        "plt.legend()\n",
        "plt.show()\n",
        "plt.savefig('LossVal_loss')\n",
        "\n",
        "# plot the accuracy\n",
        "plt.plot(r.history['accuracy'], label='train acc')\n",
        "plt.plot(r.history['val_accuracy'], label='val acc')\n",
        "plt.legend()\n",
        "plt.show()\n",
        "plt.savefig('AccVal_acc')"
      ],
      "metadata": {
        "colab": {
          "base_uri": "https://localhost:8080/",
          "height": 861
        },
        "id": "6lbo-9eNVhtx",
        "outputId": "4134bf8e-d663-4571-e61c-679980eaf87d"
      },
      "execution_count": 21,
      "outputs": [
        {
          "output_type": "display_data",
          "data": {
            "text/plain": [
              "<Figure size 640x480 with 1 Axes>"
            ],
            "image/png": "[encoded data removed]"
          },
          "metadata": {}
        },
        {
          "output_type": "display_data",
          "data": {
            "text/plain": [
              "<Figure size 640x480 with 1 Axes>"
            ],
            "image/png": "[encoded data removed]"
          },
          "metadata": {}
        },
        {
          "output_type": "display_data",
          "data": {
            "text/plain": [
              "<Figure size 640x480 with 0 Axes>"
            ]
          },
          "metadata": {}
        }
      ]
    },
    {
      "cell_type": "code",
      "source": [
        "# save it as a h5 file\n",
        "\n",
        "\n",
        "from tensorflow.keras.models import load_model\n",
        "\n",
        "model.save('model_vgg19_preprocessed.h5')"
      ],
      "metadata": {
        "colab": {
          "base_uri": "https://localhost:8080/"
        },
        "id": "uGY-pO4eV4ok",
        "outputId": "2add8e38-a586-4389-d82b-79c65aa77fcc"
      },
      "execution_count": 22,
      "outputs": [
        {
          "output_type": "stream",
          "name": "stderr",
          "text": [
            "/usr/local/lib/python3.10/dist-packages/keras/src/engine/training.py:3103: UserWarning: You are saving your model as an HDF5 file via `model.save()`. This file format is considered legacy. We recommend using instead the native Keras format, e.g. `model.save('my_model.keras')`.\n",
            "  saving_api.save_model(\n"
          ]
        }
      ]
    },
    {
      "cell_type": "code",
      "source": [
        "model.save('model_vgg19_preprocessed.keras')\n"
      ],
      "metadata": {
        "id": "m3HNvd5OWIjc"
      },
      "execution_count": 23,
      "outputs": []
    },
    {
      "cell_type": "code",
      "source": [
        "from tensorflow.keras import datasets, layers, models"
      ],
      "metadata": {
        "id": "pIUyzSW0KB0w"
      },
      "execution_count": 25,
      "outputs": []
    },
    {
      "cell_type": "code",
      "source": [
        "y_pred = model.predict(test_data)"
      ],
      "metadata": {
        "colab": {
          "base_uri": "https://localhost:8080/"
        },
        "id": "pLamfsaCKlYO",
        "outputId": "b17a0769-a5fa-42f4-eac1-fdbb9d2fbac6"
      },
      "execution_count": 28,
      "outputs": [
        {
          "output_type": "stream",
          "name": "stdout",
          "text": [
            "41/41 [==============================] - 27s 645ms/step\n"
          ]
        }
      ]
    },
    {
      "cell_type": "code",
      "source": [
        "from sklearn.metrics import confusion_matrix\n",
        "import seaborn as sns\n",
        "from sklearn.metrics import accuracy_score, precision_score, recall_score, f1_score"
      ],
      "metadata": {
        "id": "HLivNA7gMv2q"
      },
      "execution_count": 29,
      "outputs": []
    },
    {
      "cell_type": "markdown",
      "source": [
        "X_train = Train-data\n",
        "y-train = Train-labels\n",
        "\n",
        "X-test = test-data\n",
        "y-test = test-labels"
      ],
      "metadata": {
        "id": "4AseiVwENT7Q"
      }
    },
    {
      "cell_type": "markdown",
      "source": [
        "X_train, X_test, y_train, y_test = train_test_split(X, y,test_size=0.25)"
      ],
      "metadata": {
        "id": "UX8VEF1HNEsJ"
      }
    },
    {
      "cell_type": "code",
      "source": [
        "print(f\"Shape of test_labels: {test_labels.shape}, Type: {type(test_labels)}\")\n",
        "print(f\"Shape of y_pred: {y_pred.shape}, Type: {type(y_pred)}\")\n",
        "\n",
        "print(f\"First 5 elements of test_labels: {test_labels[:5]}\")\n",
        "print(f\"First 5 elements of y_pred: {y_pred[:5]}\")"
      ],
      "metadata": {
        "colab": {
          "base_uri": "https://localhost:8080/"
        },
        "id": "VaCXe9XoOL6s",
        "outputId": "9b8abe12-713b-447b-886b-da5fe78ed3c6"
      },
      "execution_count": 32,
      "outputs": [
        {
          "output_type": "stream",
          "name": "stdout",
          "text": [
            "Shape of test_labels: (1311, 4), Type: <class 'numpy.ndarray'>\n",
            "Shape of y_pred: (1311, 4), Type: <class 'numpy.ndarray'>\n",
            "First 5 elements of test_labels: [[0. 1. 0. 0.]\n",
            " [0. 0. 1. 0.]\n",
            " [0. 1. 0. 0.]\n",
            " [0. 1. 0. 0.]\n",
            " [0. 0. 1. 0.]]\n",
            "First 5 elements of y_pred: [[4.8031048e-03 9.9458176e-01 6.1502610e-04 4.8939931e-14]\n",
            " [6.1739804e-09 5.2685726e-01 8.1485124e-11 4.7314274e-01]\n",
            " [6.3634306e-11 1.1639304e-06 9.9999875e-01 4.7187180e-19]\n",
            " [7.0135728e-05 9.9982882e-01 1.0117050e-04 2.6194171e-12]\n",
            " [1.4183937e-08 3.6470196e-01 6.3529795e-01 1.6051023e-09]]\n"
          ]
        }
      ]
    },
    {
      "cell_type": "code",
      "source": [
        "# compute the confusion matrix\n",
        "cm = confusion_matrix(test_labels,y_pred)"
      ],
      "metadata": {
        "colab": {
          "base_uri": "https://localhost:8080/",
          "height": 348
        },
        "id": "8qQQNoXiNFqi",
        "outputId": "fd71aff1-d7e0-4e1a-8331-81c7a4c37b37"
      },
      "execution_count": 31,
      "outputs": [
        {
          "output_type": "error",
          "ename": "ValueError",
          "evalue": "Classification metrics can't handle a mix of multilabel-indicator and continuous-multioutput targets",
          "traceback": [
            "\u001b[0;31m---------------------------------------------------------------------------\u001b[0m",
            "\u001b[0;31mValueError\u001b[0m                                Traceback (most recent call last)",
            "\u001b[0;32m<ipython-input-31-07d0390cbfea>\u001b[0m in \u001b[0;36m<cell line: 2>\u001b[0;34m()\u001b[0m\n\u001b[1;32m      1\u001b[0m \u001b[0;31m# compute the confusion matrix\u001b[0m\u001b[0;34m\u001b[0m\u001b[0;34m\u001b[0m\u001b[0m\n\u001b[0;32m----> 2\u001b[0;31m \u001b[0mcm\u001b[0m \u001b[0;34m=\u001b[0m \u001b[0mconfusion_matrix\u001b[0m\u001b[0;34m(\u001b[0m\u001b[0mtest_labels\u001b[0m\u001b[0;34m,\u001b[0m\u001b[0my_pred\u001b[0m\u001b[0;34m)\u001b[0m\u001b[0;34m\u001b[0m\u001b[0;34m\u001b[0m\u001b[0m\n\u001b[0m",
            "\u001b[0;32m/usr/local/lib/python3.10/dist-packages/sklearn/metrics/_classification.py\u001b[0m in \u001b[0;36mconfusion_matrix\u001b[0;34m(y_true, y_pred, labels, sample_weight, normalize)\u001b[0m\n\u001b[1;32m    315\u001b[0m     \u001b[0;34m(\u001b[0m\u001b[0;36m0\u001b[0m\u001b[0;34m,\u001b[0m \u001b[0;36m2\u001b[0m\u001b[0;34m,\u001b[0m \u001b[0;36m1\u001b[0m\u001b[0;34m,\u001b[0m \u001b[0;36m1\u001b[0m\u001b[0;34m)\u001b[0m\u001b[0;34m\u001b[0m\u001b[0;34m\u001b[0m\u001b[0m\n\u001b[1;32m    316\u001b[0m     \"\"\"\n\u001b[0;32m--> 317\u001b[0;31m     \u001b[0my_type\u001b[0m\u001b[0;34m,\u001b[0m \u001b[0my_true\u001b[0m\u001b[0;34m,\u001b[0m \u001b[0my_pred\u001b[0m \u001b[0;34m=\u001b[0m \u001b[0m_check_targets\u001b[0m\u001b[0;34m(\u001b[0m\u001b[0my_true\u001b[0m\u001b[0;34m,\u001b[0m \u001b[0my_pred\u001b[0m\u001b[0;34m)\u001b[0m\u001b[0;34m\u001b[0m\u001b[0;34m\u001b[0m\u001b[0m\n\u001b[0m\u001b[1;32m    318\u001b[0m     \u001b[0;32mif\u001b[0m \u001b[0my_type\u001b[0m \u001b[0;32mnot\u001b[0m \u001b[0;32min\u001b[0m \u001b[0;34m(\u001b[0m\u001b[0;34m\"binary\"\u001b[0m\u001b[0;34m,\u001b[0m \u001b[0;34m\"multiclass\"\u001b[0m\u001b[0;34m)\u001b[0m\u001b[0;34m:\u001b[0m\u001b[0;34m\u001b[0m\u001b[0;34m\u001b[0m\u001b[0m\n\u001b[1;32m    319\u001b[0m         \u001b[0;32mraise\u001b[0m \u001b[0mValueError\u001b[0m\u001b[0;34m(\u001b[0m\u001b[0;34m\"%s is not supported\"\u001b[0m \u001b[0;34m%\u001b[0m \u001b[0my_type\u001b[0m\u001b[0;34m)\u001b[0m\u001b[0;34m\u001b[0m\u001b[0;34m\u001b[0m\u001b[0m\n",
            "\u001b[0;32m/usr/local/lib/python3.10/dist-packages/sklearn/metrics/_classification.py\u001b[0m in \u001b[0;36m_check_targets\u001b[0;34m(y_true, y_pred)\u001b[0m\n\u001b[1;32m     93\u001b[0m \u001b[0;34m\u001b[0m\u001b[0m\n\u001b[1;32m     94\u001b[0m     \u001b[0;32mif\u001b[0m \u001b[0mlen\u001b[0m\u001b[0;34m(\u001b[0m\u001b[0my_type\u001b[0m\u001b[0;34m)\u001b[0m \u001b[0;34m>\u001b[0m \u001b[0;36m1\u001b[0m\u001b[0;34m:\u001b[0m\u001b[0;34m\u001b[0m\u001b[0;34m\u001b[0m\u001b[0m\n\u001b[0;32m---> 95\u001b[0;31m         raise ValueError(\n\u001b[0m\u001b[1;32m     96\u001b[0m             \"Classification metrics can't handle a mix of {0} and {1} targets\".format(\n\u001b[1;32m     97\u001b[0m                 \u001b[0mtype_true\u001b[0m\u001b[0;34m,\u001b[0m \u001b[0mtype_pred\u001b[0m\u001b[0;34m\u001b[0m\u001b[0;34m\u001b[0m\u001b[0m\n",
            "\u001b[0;31mValueError\u001b[0m: Classification metrics can't handle a mix of multilabel-indicator and continuous-multioutput targets"
          ]
        }
      ]
    }
  ]
}