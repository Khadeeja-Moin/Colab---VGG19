{
  "nbformat": 4,
  "nbformat_minor": 0,
  "metadata": {
    "colab": {
      "provenance": [],
      "authorship_tag": "ABX9TyOa73ONPga2QUUnBMEBP4d0",
      "include_colab_link": true
    },
    "kernelspec": {
      "name": "python3",
      "display_name": "Python 3"
    },
    "language_info": {
      "name": "python"
    }
  },
  "cells": [
    {
      "cell_type": "markdown",
      "metadata": {
        "id": "view-in-github",
        "colab_type": "text"
      },
      "source": [
        "<a href=\"https://colab.research.google.com/github/Khadeeja-Moin/Colab---VGG19/blob/main/Attempt%201/VGg_19_(Preprocessed_dataset).ipynb\" target=\"_parent\"><img src=\"https://colab.research.google.com/assets/colab-badge.svg\" alt=\"Open In Colab\"/></a>"
      ]
    },
    {
      "cell_type": "code",
      "execution_count": null,
      "metadata": {
        "id": "WLeW8_RR0tH2"
      },
      "outputs": [],
      "source": [
        "import keras\n",
        "from tensorflow.keras.layers import Input, Lambda, Dense, Flatten,Conv2D\n",
        "from tensorflow.keras.models import Model\n",
        "from tensorflow.keras.applications.vgg19 import VGG19\n",
        "from tensorflow.keras.applications.resnet50 import preprocess_input\n",
        "from tensorflow.keras.preprocessing import image\n",
        "from tensorflow.keras.preprocessing.image import ImageDataGenerator,load_img\n",
        "from tensorflow.keras.models import Sequential\n",
        "import numpy as np\n",
        "from glob import glob\n",
        "import matplotlib.pyplot as plt"
      ]
    },
    {
      "cell_type": "code",
      "source": [
        "from tensorflow.keras.layers import MaxPooling2D"
      ],
      "metadata": {
        "id": "pISmZNUy1sls"
      },
      "execution_count": null,
      "outputs": []
    },
    {
      "cell_type": "code",
      "source": [
        "from google.colab import drive\n",
        "drive.mount('/content/drive')"
      ],
      "metadata": {
        "colab": {
          "base_uri": "https://localhost:8080/"
        },
        "id": "YM-O9rEn1CwU",
        "outputId": "9ab8d910-485e-4385-a7bf-dd4a8443707d"
      },
      "execution_count": null,
      "outputs": [
        {
          "output_type": "stream",
          "name": "stdout",
          "text": [
            "Mounted at /content/drive\n"
          ]
        }
      ]
    },
    {
      "cell_type": "code",
      "source": [
        "train_path = '/content/drive/MyDrive/Colab Notebooks/brain_mri_dataset/Training3'\n",
        "test_path = '/content/drive/MyDrive/Colab Notebooks/brain_mri_dataset/Testing3'"
      ],
      "metadata": {
        "id": "u9E7comB081G"
      },
      "execution_count": null,
      "outputs": []
    },
    {
      "cell_type": "code",
      "source": [
        "# re-size all the images to this because images in dataset are f varying sizes\n",
        "IMAGE_SIZE = [224, 224]"
      ],
      "metadata": {
        "id": "RxMCbOZ41RxM"
      },
      "execution_count": null,
      "outputs": []
    },
    {
      "cell_type": "code",
      "source": [
        "# Import the Vgg 19 library as shown below and add preprocessing layer to the front of VGG\n",
        "# Here we will be using imagenet weights\n",
        "# Images in our dataset are gray-scale\n",
        "\n",
        "mobilnet = VGG19(input_shape=IMAGE_SIZE + [3], weights='imagenet', include_top=False)\n",
        "\n",
        "# include_top = False actually drops first and last layer of model\n",
        "# My first layer should be 224 * 224 (Image dimension)\n",
        "# My last year will have 4 classes according to dataset"
      ],
      "metadata": {
        "colab": {
          "base_uri": "https://localhost:8080/"
        },
        "id": "QQ0xfQzj1Vaz",
        "outputId": "0cec1629-3b04-4675-ae82-65ced7c48205"
      },
      "execution_count": null,
      "outputs": [
        {
          "output_type": "stream",
          "name": "stdout",
          "text": [
            "Downloading data from https://storage.googleapis.com/tensorflow/keras-applications/vgg19/vgg19_weights_tf_dim_ordering_tf_kernels_notop.h5\n",
            "80134624/80134624 [==============================] - 2s 0us/step\n"
          ]
        }
      ]
    },
    {
      "cell_type": "code",
      "source": [
        "# don't train existing weights\n",
        "for layer in mobilnet.layers:\n",
        "    layer.trainable = False"
      ],
      "metadata": {
        "id": "tx1F848v1YUA"
      },
      "execution_count": null,
      "outputs": []
    },
    {
      "cell_type": "code",
      "source": [
        "# our layers - you can add more if you want\n",
        "x = Flatten()(mobilnet.output)\n",
        "prediction = Dense(4, activation='softmax')(x)\n",
        "\n",
        "# create a model object\n",
        "model = Model(inputs=mobilnet.input, outputs=prediction)"
      ],
      "metadata": {
        "id": "T9QeRFBn1cnx"
      },
      "execution_count": null,
      "outputs": []
    },
    {
      "cell_type": "code",
      "source": [
        "# view the structure of the model\n",
        "model.summary()"
      ],
      "metadata": {
        "colab": {
          "base_uri": "https://localhost:8080/"
        },
        "id": "W925aysz1kK9",
        "outputId": "ea7e2e29-6c34-4ce7-df64-8a6b75db7a4e"
      },
      "execution_count": null,
      "outputs": [
        {
          "output_type": "stream",
          "name": "stdout",
          "text": [
            "Model: \"model\"\n",
            "_________________________________________________________________\n",
            " Layer (type)                Output Shape              Param #   \n",
            "=================================================================\n",
            " input_1 (InputLayer)        [(None, 224, 224, 3)]     0         \n",
            "                                                                 \n",
            " block1_conv1 (Conv2D)       (None, 224, 224, 64)      1792      \n",
            "                                                                 \n",
            " block1_conv2 (Conv2D)       (None, 224, 224, 64)      36928     \n",
            "                                                                 \n",
            " block1_pool (MaxPooling2D)  (None, 112, 112, 64)      0         \n",
            "                                                                 \n",
            " block2_conv1 (Conv2D)       (None, 112, 112, 128)     73856     \n",
            "                                                                 \n",
            " block2_conv2 (Conv2D)       (None, 112, 112, 128)     147584    \n",
            "                                                                 \n",
            " block2_pool (MaxPooling2D)  (None, 56, 56, 128)       0         \n",
            "                                                                 \n",
            " block3_conv1 (Conv2D)       (None, 56, 56, 256)       295168    \n",
            "                                                                 \n",
            " block3_conv2 (Conv2D)       (None, 56, 56, 256)       590080    \n",
            "                                                                 \n",
            " block3_conv3 (Conv2D)       (None, 56, 56, 256)       590080    \n",
            "                                                                 \n",
            " block3_conv4 (Conv2D)       (None, 56, 56, 256)       590080    \n",
            "                                                                 \n",
            " block3_pool (MaxPooling2D)  (None, 28, 28, 256)       0         \n",
            "                                                                 \n",
            " block4_conv1 (Conv2D)       (None, 28, 28, 512)       1180160   \n",
            "                                                                 \n",
            " block4_conv2 (Conv2D)       (None, 28, 28, 512)       2359808   \n",
            "                                                                 \n",
            " block4_conv3 (Conv2D)       (None, 28, 28, 512)       2359808   \n",
            "                                                                 \n",
            " block4_conv4 (Conv2D)       (None, 28, 28, 512)       2359808   \n",
            "                                                                 \n",
            " block4_pool (MaxPooling2D)  (None, 14, 14, 512)       0         \n",
            "                                                                 \n",
            " block5_conv1 (Conv2D)       (None, 14, 14, 512)       2359808   \n",
            "                                                                 \n",
            " block5_conv2 (Conv2D)       (None, 14, 14, 512)       2359808   \n",
            "                                                                 \n",
            " block5_conv3 (Conv2D)       (None, 14, 14, 512)       2359808   \n",
            "                                                                 \n",
            " block5_conv4 (Conv2D)       (None, 14, 14, 512)       2359808   \n",
            "                                                                 \n",
            " block5_pool (MaxPooling2D)  (None, 7, 7, 512)         0         \n",
            "                                                                 \n",
            " flatten (Flatten)           (None, 25088)             0         \n",
            "                                                                 \n",
            " dense (Dense)               (None, 4)                 100356    \n",
            "                                                                 \n",
            "=================================================================\n",
            "Total params: 20124740 (76.77 MB)\n",
            "Trainable params: 100356 (392.02 KB)\n",
            "Non-trainable params: 20024384 (76.39 MB)\n",
            "_________________________________________________________________\n"
          ]
        }
      ]
    },
    {
      "cell_type": "code",
      "source": [
        "### Create Model from scratch using CNN\n",
        "model=Sequential()\n",
        "model.add(Conv2D(filters=16,kernel_size=2,padding=\"same\",activation=\"relu\",input_shape=(224,224,3)))\n",
        "model.add(MaxPooling2D(pool_size=2))\n",
        "model.add(Conv2D(filters=32,kernel_size=2,padding=\"same\",activation =\"relu\"))\n",
        "model.add(MaxPooling2D(pool_size=2))\n",
        "model.add(Conv2D(filters=64,kernel_size=2,padding=\"same\",activation=\"relu\"))\n",
        "model.add(MaxPooling2D(pool_size=2))\n",
        "model.add(Flatten())\n",
        "model.add(Dense(500,activation=\"relu\"))\n",
        "model.add(Dense(4,activation=\"softmax\"))  # 4 Neurons in the Output Layer\n",
        "model.summary()"
      ],
      "metadata": {
        "colab": {
          "base_uri": "https://localhost:8080/"
        },
        "id": "xG-t-cNc1w-Q",
        "outputId": "5412f9c7-0420-4262-9ce9-72bba9bc4e1e"
      },
      "execution_count": null,
      "outputs": [
        {
          "output_type": "stream",
          "name": "stdout",
          "text": [
            "Model: \"sequential_1\"\n",
            "_________________________________________________________________\n",
            " Layer (type)                Output Shape              Param #   \n",
            "=================================================================\n",
            " conv2d_3 (Conv2D)           (None, 224, 224, 16)      208       \n",
            "                                                                 \n",
            " max_pooling2d_3 (MaxPoolin  (None, 112, 112, 16)      0         \n",
            " g2D)                                                            \n",
            "                                                                 \n",
            " conv2d_4 (Conv2D)           (None, 112, 112, 32)      2080      \n",
            "                                                                 \n",
            " max_pooling2d_4 (MaxPoolin  (None, 56, 56, 32)        0         \n",
            " g2D)                                                            \n",
            "                                                                 \n",
            " conv2d_5 (Conv2D)           (None, 56, 56, 64)        8256      \n",
            "                                                                 \n",
            " max_pooling2d_5 (MaxPoolin  (None, 28, 28, 64)        0         \n",
            " g2D)                                                            \n",
            "                                                                 \n",
            " flatten_2 (Flatten)         (None, 50176)             0         \n",
            "                                                                 \n",
            " dense_3 (Dense)             (None, 500)               25088500  \n",
            "                                                                 \n",
            " dense_4 (Dense)             (None, 4)                 2004      \n",
            "                                                                 \n",
            "=================================================================\n",
            "Total params: 25101048 (95.75 MB)\n",
            "Trainable params: 25101048 (95.75 MB)\n",
            "Non-trainable params: 0 (0.00 Byte)\n",
            "_________________________________________________________________\n"
          ]
        }
      ]
    },
    {
      "cell_type": "code",
      "source": [
        "# tell the model what cost and optimization method to use\n",
        "model.compile(\n",
        "  loss='categorical_crossentropy',\n",
        "  optimizer='adam',\n",
        "  metrics=['accuracy']\n",
        ")"
      ],
      "metadata": {
        "id": "sJsAWVTx110_"
      },
      "execution_count": null,
      "outputs": []
    },
    {
      "cell_type": "code",
      "source": [
        "# Use the Image Data Generator to import the images from the dataset\n",
        "from tensorflow.keras.preprocessing.image import ImageDataGenerator\n",
        "\n",
        "train_datagen = ImageDataGenerator(rescale = 1./255,\n",
        "                                   shear_range = 0.2,\n",
        "                                   zoom_range = 0.2,\n",
        "                                   horizontal_flip = True)\n",
        "\n",
        "test_datagen = ImageDataGenerator(rescale = 1./255)"
      ],
      "metadata": {
        "id": "kYCAoArN15oY"
      },
      "execution_count": null,
      "outputs": []
    },
    {
      "cell_type": "code",
      "source": [
        "# Make sure you provide the same target size as initialied for the image size\n",
        "training_set = train_datagen.flow_from_directory('/content/drive/MyDrive/Colab Notebooks/brain_mri_dataset/Training3',\n",
        "                                                 target_size = (224, 224),\n",
        "                                                 batch_size = 32,\n",
        "                                                 class_mode = 'categorical')"
      ],
      "metadata": {
        "colab": {
          "base_uri": "https://localhost:8080/"
        },
        "id": "JNo1amF7182k",
        "outputId": "da746988-b148-44c1-c4a8-a240bb0566ef"
      },
      "execution_count": null,
      "outputs": [
        {
          "output_type": "stream",
          "name": "stdout",
          "text": [
            "Found 5712 images belonging to 4 classes.\n"
          ]
        }
      ]
    },
    {
      "cell_type": "code",
      "source": [
        "test_set = test_datagen.flow_from_directory('/content/drive/MyDrive/Colab Notebooks/brain_mri_dataset/Testing3',\n",
        "                                            target_size = (224, 224),\n",
        "                                            batch_size = 32,\n",
        "                                            class_mode = 'categorical')"
      ],
      "metadata": {
        "colab": {
          "base_uri": "https://localhost:8080/"
        },
        "id": "qZ3F5zbS2B98",
        "outputId": "5208329f-c53f-466f-d072-920b31e9ff2c"
      },
      "execution_count": null,
      "outputs": [
        {
          "output_type": "stream",
          "name": "stdout",
          "text": [
            "Found 1311 images belonging to 4 classes.\n"
          ]
        }
      ]
    },
    {
      "cell_type": "code",
      "source": [
        "# fit the model\n",
        "# Run the cell. It will take some time to execute\n",
        "r = model.fit(\n",
        "  training_set,\n",
        "  validation_data=test_set,\n",
        "  epochs=20,\n",
        "  steps_per_epoch=len(training_set),\n",
        "  validation_steps=len(test_set)\n",
        ")"
      ],
      "metadata": {
        "colab": {
          "base_uri": "https://localhost:8080/"
        },
        "id": "2dkgonSy2GSi",
        "outputId": "ae8b8383-443f-4700-a04d-cf4dacac015c"
      },
      "execution_count": null,
      "outputs": [
        {
          "output_type": "stream",
          "name": "stdout",
          "text": [
            "Epoch 1/20\n",
            "179/179 [==============================] - 2780s 15s/step - loss: 0.8281 - accuracy: 0.6642 - val_loss: 0.6652 - val_accuracy: 0.7689\n",
            "Epoch 2/20\n",
            "179/179 [==============================] - 407s 2s/step - loss: 0.4823 - accuracy: 0.8129 - val_loss: 0.5802 - val_accuracy: 0.7910\n",
            "Epoch 3/20\n",
            "179/179 [==============================] - 425s 2s/step - loss: 0.3986 - accuracy: 0.8475 - val_loss: 0.4448 - val_accuracy: 0.8200\n",
            "Epoch 4/20\n",
            "179/179 [==============================] - 433s 2s/step - loss: 0.3524 - accuracy: 0.8687 - val_loss: 0.3237 - val_accuracy: 0.8764\n",
            "Epoch 5/20\n",
            "179/179 [==============================] - 423s 2s/step - loss: 0.3074 - accuracy: 0.8810 - val_loss: 0.4420 - val_accuracy: 0.8459\n",
            "Epoch 6/20\n",
            "179/179 [==============================] - 432s 2s/step - loss: 0.2577 - accuracy: 0.9069 - val_loss: 0.3779 - val_accuracy: 0.8596\n",
            "Epoch 7/20\n",
            "179/179 [==============================] - 434s 2s/step - loss: 0.2355 - accuracy: 0.9111 - val_loss: 0.4110 - val_accuracy: 0.8543\n",
            "Epoch 8/20\n",
            "179/179 [==============================] - 432s 2s/step - loss: 0.2155 - accuracy: 0.9175 - val_loss: 0.2457 - val_accuracy: 0.9085\n",
            "Epoch 9/20\n",
            "179/179 [==============================] - 424s 2s/step - loss: 0.1833 - accuracy: 0.9329 - val_loss: 0.2302 - val_accuracy: 0.9115\n",
            "Epoch 10/20\n",
            "179/179 [==============================] - 416s 2s/step - loss: 0.1707 - accuracy: 0.9408 - val_loss: 0.1996 - val_accuracy: 0.9169\n",
            "Epoch 11/20\n",
            "179/179 [==============================] - 440s 2s/step - loss: 0.1448 - accuracy: 0.9477 - val_loss: 0.2475 - val_accuracy: 0.9130\n",
            "Epoch 12/20\n",
            "179/179 [==============================] - 458s 3s/step - loss: 0.1354 - accuracy: 0.9534 - val_loss: 0.1879 - val_accuracy: 0.9268\n",
            "Epoch 13/20\n",
            "179/179 [==============================] - 451s 3s/step - loss: 0.1167 - accuracy: 0.9585 - val_loss: 0.3552 - val_accuracy: 0.8841\n",
            "Epoch 14/20\n",
            "179/179 [==============================] - 447s 2s/step - loss: 0.1145 - accuracy: 0.9564 - val_loss: 0.3209 - val_accuracy: 0.9047\n",
            "Epoch 15/20\n",
            "179/179 [==============================] - 418s 2s/step - loss: 0.1082 - accuracy: 0.9603 - val_loss: 0.1434 - val_accuracy: 0.9550\n",
            "Epoch 16/20\n",
            "179/179 [==============================] - 443s 2s/step - loss: 0.0756 - accuracy: 0.9722 - val_loss: 0.1355 - val_accuracy: 0.9527\n",
            "Epoch 17/20\n",
            "179/179 [==============================] - 401s 2s/step - loss: 0.0859 - accuracy: 0.9676 - val_loss: 0.1492 - val_accuracy: 0.9474\n",
            "Epoch 18/20\n",
            "179/179 [==============================] - 439s 2s/step - loss: 0.0716 - accuracy: 0.9741 - val_loss: 0.1615 - val_accuracy: 0.9466\n",
            "Epoch 19/20\n",
            "179/179 [==============================] - 436s 2s/step - loss: 0.0861 - accuracy: 0.9666 - val_loss: 0.1014 - val_accuracy: 0.9657\n",
            "Epoch 20/20\n",
            "179/179 [==============================] - 427s 2s/step - loss: 0.0630 - accuracy: 0.9806 - val_loss: 0.1479 - val_accuracy: 0.9504\n"
          ]
        }
      ]
    },
    {
      "cell_type": "code",
      "source": [
        "# plot the loss\n",
        "plt.plot(r.history['loss'], label='train loss')\n",
        "plt.plot(r.history['val_loss'], label='val loss')\n",
        "plt.legend()\n",
        "plt.show()\n",
        "plt.savefig('LossVal_loss')\n",
        "\n",
        "# plot the accuracy\n",
        "plt.plot(r.history['accuracy'], label='train acc')\n",
        "plt.plot(r.history['val_accuracy'], label='val acc')\n",
        "plt.legend()\n",
        "plt.show()\n",
        "plt.savefig('AccVal_acc')"
      ],
      "metadata": {
        "colab": {
          "base_uri": "https://localhost:8080/",
          "height": 861
        },
        "id": "6lbo-9eNVhtx",
        "outputId": "ca9ecb66-458c-4099-b3d6-fcca052023e5"
      },
      "execution_count": null,
      "outputs": [
        {
          "output_type": "display_data",
          "data": {
            "text/plain": [
              "<Figure size 640x480 with 1 Axes>"
            ],
            "image/png": "[encoded data removed]"
          },
          "metadata": {}
        },
        {
          "output_type": "display_data",
          "data": {
            "text/plain": [
              "<Figure size 640x480 with 1 Axes>"
            ],
            "image/png": "[encoded data removed]"
          },
          "metadata": {}
        },
        {
          "output_type": "display_data",
          "data": {
            "text/plain": [
              "<Figure size 640x480 with 0 Axes>"
            ]
          },
          "metadata": {}
        }
      ]
    },
    {
      "cell_type": "code",
      "source": [
        "# save it as a h5 file\n",
        "\n",
        "\n",
        "from tensorflow.keras.models import load_model\n",
        "\n",
        "model.save('model_vgg19_preprocessed.h5')"
      ],
      "metadata": {
        "colab": {
          "base_uri": "https://localhost:8080/"
        },
        "id": "uGY-pO4eV4ok",
        "outputId": "fb9e30a0-a757-4ba3-9444-93c7eed58497"
      },
      "execution_count": null,
      "outputs": [
        {
          "output_type": "stream",
          "name": "stderr",
          "text": [
            "/usr/local/lib/python3.10/dist-packages/keras/src/engine/training.py:3103: UserWarning: You are saving your model as an HDF5 file via `model.save()`. This file format is considered legacy. We recommend using instead the native Keras format, e.g. `model.save('my_model.keras')`.\n",
            "  saving_api.save_model(\n"
          ]
        }
      ]
    },
    {
      "cell_type": "code",
      "source": [
        "model.save('model_vgg19_preprocessed.keras')\n"
      ],
      "metadata": {
        "id": "m3HNvd5OWIjc"
      },
      "execution_count": null,
      "outputs": []
    }
  ]
}